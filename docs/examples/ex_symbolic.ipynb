{
 "cells": [
  {
   "cell_type": "markdown",
   "id": "d9548e6d",
   "metadata": {},
   "source": [
    "Symbolic Example\n",
    "==============="
   ]
  },
  {
   "cell_type": "code",
   "execution_count": 1,
   "id": "be2ca2a3",
   "metadata": {},
   "outputs": [
    {
     "ename": "ModuleNotFoundError",
     "evalue": "No module named 'kingdon'",
     "output_type": "error",
     "traceback": [
      "\u001b[1;31m---------------------------------------------------------------------------\u001b[0m",
      "\u001b[1;31mModuleNotFoundError\u001b[0m                       Traceback (most recent call last)",
      "Input \u001b[1;32mIn [1]\u001b[0m, in \u001b[0;36m<cell line: 1>\u001b[1;34m()\u001b[0m\n\u001b[1;32m----> 1\u001b[0m \u001b[38;5;28;01mfrom\u001b[39;00m \u001b[38;5;21;01mkingdon\u001b[39;00m \u001b[38;5;28;01mimport\u001b[39;00m Algebra\n",
      "\u001b[1;31mModuleNotFoundError\u001b[0m: No module named 'kingdon'"
     ]
    }
   ],
   "source": [
    "from kingdon import Algebra"
   ]
  },
  {
   "cell_type": "markdown",
   "id": "ff770f4c",
   "metadata": {},
   "source": [
    "Let us create two symbolic vectors :code:`u` and :code:`v`. "
   ]
  },
  {
   "cell_type": "code",
   "execution_count": null,
   "id": "354a36cb",
   "metadata": {},
   "outputs": [],
   "source": [
    "alg = Algebra(3, 0, 1)\n",
    "u = alg.vector(name='u')\n",
    "v = alg.vector(name='v')"
   ]
  },
  {
   "cell_type": "markdown",
   "id": "83381ae7",
   "metadata": {},
   "source": [
    "Their product is a bireflection, and has a scalar and bivector part:"
   ]
  },
  {
   "cell_type": "code",
   "execution_count": 2,
   "id": "73fbc348",
   "metadata": {},
   "outputs": [
    {
     "ename": "NameError",
     "evalue": "name 'u' is not defined",
     "output_type": "error",
     "traceback": [
      "\u001b[1;31m---------------------------------------------------------------------------\u001b[0m",
      "\u001b[1;31mNameError\u001b[0m                                 Traceback (most recent call last)",
      "Input \u001b[1;32mIn [2]\u001b[0m, in \u001b[0;36m<cell line: 1>\u001b[1;34m()\u001b[0m\n\u001b[1;32m----> 1\u001b[0m R \u001b[38;5;241m=\u001b[39m \u001b[43mu\u001b[49m \u001b[38;5;241m*\u001b[39m v\n\u001b[0;32m      2\u001b[0m \u001b[38;5;28mprint\u001b[39m(\u001b[38;5;124m'\u001b[39m\u001b[38;5;124mR =\u001b[39m\u001b[38;5;124m'\u001b[39m, R)\n\u001b[0;32m      3\u001b[0m \u001b[38;5;28mprint\u001b[39m(\u001b[38;5;124m'\u001b[39m\u001b[38;5;124mgrades:\u001b[39m\u001b[38;5;124m'\u001b[39m, R\u001b[38;5;241m.\u001b[39mgrades)\n",
      "\u001b[1;31mNameError\u001b[0m: name 'u' is not defined"
     ]
    }
   ],
   "source": [
    "R = u * v\n",
    "print('R =', R)\n",
    "print('grades:', R.grades)"
   ]
  },
  {
   "cell_type": "markdown",
   "id": "fa644e30",
   "metadata": {},
   "source": [
    "While the product of two different vectors has a non-zero bivector part, the product of a vector with itself only has a scalar part:"
   ]
  },
  {
   "cell_type": "code",
   "execution_count": 17,
   "id": "2fa7ebd6",
   "metadata": {},
   "outputs": [
    {
     "name": "stdout",
     "output_type": "stream",
     "text": [
      "usq = (u1**2 + u2**2 + u3**2) * 1\n",
      "grades: (0,)\n"
     ]
    }
   ],
   "source": [
    "usq = u * u\n",
    "print('usq =', usq)\n",
    "print('grades:', usq.grades)"
   ]
  },
  {
   "cell_type": "markdown",
   "id": "276a15ee",
   "metadata": {},
   "source": [
    "Kingdon has realized this, and has removed the bivector part in the output entirely, and not just set it equal to zero.\n",
    "\n",
    "To evaluate this square for given numerical values of the coefficients, we can call the symbolic expression:"
   ]
  },
  {
   "cell_type": "code",
   "execution_count": 21,
   "id": "57dc307a",
   "metadata": {},
   "outputs": [
    {
     "name": "stdout",
     "output_type": "stream",
     "text": [
      "(1.0) * 1\n"
     ]
    },
    {
     "data": {
      "text/plain": [
       "MultiVector(algebra=Algebra(p=3, q=0, r=1, cse=True, precompute='none', numba=False, graded=False), vals={0: 1.0}, name='')"
      ]
     },
     "execution_count": 21,
     "metadata": {},
     "output_type": "execute_result"
    }
   ],
   "source": [
    "import numpy as np\n",
    "\n",
    "res = usq(u1=np.cos(np.pi/3), u2=np.sin(np.pi/3), u3=0)\n",
    "print(res)\n",
    "res"
   ]
  },
  {
   "cell_type": "code",
   "execution_count": null,
   "id": "fc6a9f4b",
   "metadata": {},
   "outputs": [],
   "source": []
  }
 ],
 "metadata": {
  "kernelspec": {
   "display_name": "Python 3 (ipykernel)",
   "language": "python",
   "name": "python3"
  },
  "language_info": {
   "codemirror_mode": {
    "name": "ipython",
    "version": 3
   },
   "file_extension": ".py",
   "mimetype": "text/x-python",
   "name": "python",
   "nbconvert_exporter": "python",
   "pygments_lexer": "ipython3",
   "version": "3.8.13"
  }
 },
 "nbformat": 4,
 "nbformat_minor": 5
}
