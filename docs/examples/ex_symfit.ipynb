{
 "cells": [
  {
   "cell_type": "code",
   "execution_count": 7,
   "id": "8f02fdd3",
   "metadata": {},
   "outputs": [],
   "source": [
    "from symfit import Variable, Parameter, symbols, Fit, Eq, Model, parameters\n",
    "from kingdon import Algebra\n",
    "import matplotlib.pyplot as plt\n",
    "import numpy as np"
   ]
  },
  {
   "cell_type": "code",
   "execution_count": 8,
   "id": "1c3dd375",
   "metadata": {},
   "outputs": [],
   "source": [
    "alg = Algebra(1,1)"
   ]
  },
  {
   "cell_type": "code",
   "execution_count": 9,
   "id": "0b96a2d0",
   "metadata": {},
   "outputs": [
    {
     "name": "stdout",
     "output_type": "stream",
     "text": [
      "(1) * e1 + (p) * e2\n"
     ]
    }
   ],
   "source": [
    "p = Parameter('p', value=2)\n",
    "u = alg.vector({1: 1, 2: p})\n",
    "print(u)"
   ]
  },
  {
   "cell_type": "code",
   "execution_count": 10,
   "id": "95b393e9",
   "metadata": {},
   "outputs": [
    {
     "name": "stdout",
     "output_type": "stream",
     "text": [
      "(1 - p**2) * 1\n",
      "p**2 - 1\n"
     ]
    }
   ],
   "source": [
    "usq = u*u\n",
    "print(usq)\n",
    "print(-usq[0])"
   ]
  },
  {
   "cell_type": "code",
   "execution_count": 11,
   "id": "fbfdfa02",
   "metadata": {},
   "outputs": [],
   "source": [
    "s = Variable('s')"
   ]
  },
  {
   "cell_type": "code",
   "execution_count": 12,
   "id": "645ec1f9",
   "metadata": {},
   "outputs": [],
   "source": [
    "model_dict = {s: -usq[0]}\n",
    "fit = Fit(model_dict, s=np.atleast_2d(0))"
   ]
  },
  {
   "cell_type": "code",
   "execution_count": 13,
   "id": "ce3f6800",
   "metadata": {},
   "outputs": [
    {
     "name": "stdout",
     "output_type": "stream",
     "text": [
      "\n",
      "Parameter Value        Standard Deviation\n",
      "p         1.000000e+00 inf\n",
      "Status message         Optimization terminated successfully.\n",
      "Number of iterations   5\n",
      "Objective              <symfit.core.objectives.LeastSquares object at 0x00000267752933A0>\n",
      "Minimizer              <symfit.core.minimizers.BFGS object at 0x0000026775292B90>\n",
      "\n",
      "Goodness of fit qualifiers:\n",
      "chi_squared            1.0136270688399157e-19\n",
      "objective_value        5.068135344199579e-20\n",
      "r_squared              -inf\n"
     ]
    },
    {
     "name": "stderr",
     "output_type": "stream",
     "text": [
      "C:\\Users\\martin.roelfs\\Anaconda3\\envs\\pyga\\lib\\site-packages\\symfit\\core\\fit_results.py:282: RuntimeWarning: divide by zero encountered in double_scalars\n",
      "  return 1 - SS_res/SS_tot\n",
      "C:\\Users\\martin.roelfs\\Anaconda3\\envs\\pyga\\lib\\site-packages\\symfit\\core\\fit.py:268: RuntimeWarning: divide by zero encountered in double_scalars\n",
      "  s2 = rss / dof\n"
     ]
    }
   ],
   "source": [
    "result = fit.execute()\n",
    "print(result)"
   ]
  },
  {
   "cell_type": "code",
   "execution_count": 14,
   "id": "99f46246",
   "metadata": {},
   "outputs": [
    {
     "name": "stdout",
     "output_type": "stream",
     "text": [
      "(u1) * e1 + (u2) * e2\n"
     ]
    }
   ],
   "source": [
    "# u = alg.multivector({k: Parameter(f'u{k}', min=0.1) for k in range(len(alg))})\n",
    "u = alg.vector({1: Parameter('u1'), 2: Parameter('u2')})\n",
    "print(u)"
   ]
  },
  {
   "cell_type": "code",
   "execution_count": 15,
   "id": "b998b389",
   "metadata": {},
   "outputs": [
    {
     "name": "stdout",
     "output_type": "stream",
     "text": [
      "(u1**2 - u2**2) * 1\n",
      "-u1**2 + u2**2\n"
     ]
    }
   ],
   "source": [
    "usq = u*u\n",
    "print(usq)\n",
    "print(-usq[0])"
   ]
  },
  {
   "cell_type": "code",
   "execution_count": 16,
   "id": "af360e50",
   "metadata": {},
   "outputs": [],
   "source": [
    "constraints = [\n",
    "#     Eq(usq[1], 0),\n",
    "#     Eq(usq[2], 0),\n",
    "#     Eq(usq[3], 0),\n",
    "]\n",
    "fit = Fit(-usq[0], constraints=constraints)"
   ]
  },
  {
   "cell_type": "code",
   "execution_count": 17,
   "id": "7023126f",
   "metadata": {},
   "outputs": [
    {
     "name": "stdout",
     "output_type": "stream",
     "text": [
      "\n",
      "Parameter Value        Standard Deviation\n",
      "u1        -3.975322e+24 nan\n",
      "u2        3.975322e+24 7.071068e-01\n",
      "Status message         Desired error not necessarily achieved due to precision loss.\n",
      "Number of iterations   4\n",
      "Objective              <symfit.core.objectives.MinimizeModel object at 0x0000026775E0C6A0>\n",
      "Minimizer              <symfit.core.minimizers.BFGS object at 0x0000026775E0D000>\n",
      "\n",
      "Goodness of fit qualifiers:\n",
      "objective_value        -1.3964542131129786e+42\n"
     ]
    },
    {
     "name": "stderr",
     "output_type": "stream",
     "text": [
      "C:\\Users\\martin.roelfs\\Anaconda3\\envs\\pyga\\lib\\site-packages\\symfit\\core\\fit_results.py:119: RuntimeWarning: invalid value encountered in sqrt\n",
      "  return np.sqrt(self.variance(param))\n"
     ]
    }
   ],
   "source": [
    "results = fit.execute()\n",
    "print(results)"
   ]
  },
  {
   "cell_type": "code",
   "execution_count": 18,
   "id": "9a286150",
   "metadata": {},
   "outputs": [
    {
     "data": {
      "text/plain": [
       "ModelOutput(variables=[_2643382523584], output=[array([-1.39645421e+42])])"
      ]
     },
     "execution_count": 18,
     "metadata": {},
     "output_type": "execute_result"
    }
   ],
   "source": [
    "fit.model(**results.params)"
   ]
  },
  {
   "cell_type": "code",
   "execution_count": null,
   "id": "5727528f",
   "metadata": {},
   "outputs": [],
   "source": []
  },
  {
   "cell_type": "code",
   "execution_count": null,
   "id": "77a94ef3",
   "metadata": {},
   "outputs": [],
   "source": []
  },
  {
   "cell_type": "code",
   "execution_count": 19,
   "id": "cd936d56",
   "metadata": {},
   "outputs": [
    {
     "data": {
      "text/plain": [
       "[[-2*u1, 2*u2]]"
      ]
     },
     "execution_count": 19,
     "metadata": {},
     "output_type": "execute_result"
    }
   ],
   "source": [
    "fit.model.jacobian"
   ]
  },
  {
   "cell_type": "code",
   "execution_count": 20,
   "id": "b65fd012",
   "metadata": {},
   "outputs": [
    {
     "ename": "TypeError",
     "evalue": "missing a required argument: 'u1'",
     "output_type": "error",
     "traceback": [
      "\u001b[1;31m---------------------------------------------------------------------------\u001b[0m",
      "\u001b[1;31mTypeError\u001b[0m                                 Traceback (most recent call last)",
      "Cell \u001b[1;32mIn [20], line 1\u001b[0m\n\u001b[1;32m----> 1\u001b[0m \u001b[43mfit\u001b[49m\u001b[38;5;241;43m.\u001b[39;49m\u001b[43mmodel\u001b[49m\u001b[43m(\u001b[49m\u001b[43mp\u001b[49m\u001b[38;5;241;43m=\u001b[39;49m\u001b[38;5;241;43m-\u001b[39;49m\u001b[38;5;241;43m2\u001b[39;49m\u001b[43m)\u001b[49m\n",
      "File \u001b[1;32m~\\Anaconda3\\envs\\pyga\\lib\\site-packages\\symfit\\core\\models.py:708\u001b[0m, in \u001b[0;36mBaseCallableModel.__call__\u001b[1;34m(self, *args, **kwargs)\u001b[0m\n\u001b[0;32m    695\u001b[0m \u001b[38;5;28;01mdef\u001b[39;00m \u001b[38;5;21m__call__\u001b[39m(\u001b[38;5;28mself\u001b[39m, \u001b[38;5;241m*\u001b[39margs, \u001b[38;5;241m*\u001b[39m\u001b[38;5;241m*\u001b[39mkwargs):\n\u001b[0;32m    696\u001b[0m     \u001b[38;5;124;03m\"\"\"\u001b[39;00m\n\u001b[0;32m    697\u001b[0m \u001b[38;5;124;03m    Evaluate the model for a certain value of the independent vars and parameters.\u001b[39;00m\n\u001b[0;32m    698\u001b[0m \u001b[38;5;124;03m    Signature for this function contains independent vars and parameters, NOT dependent and sigma vars.\u001b[39;00m\n\u001b[1;32m   (...)\u001b[0m\n\u001b[0;32m    706\u001b[0m \u001b[38;5;124;03m        even for scalar valued functions. This is done for consistency.\u001b[39;00m\n\u001b[0;32m    707\u001b[0m \u001b[38;5;124;03m    \"\"\"\u001b[39;00m\n\u001b[1;32m--> 708\u001b[0m     \u001b[38;5;28;01mreturn\u001b[39;00m ModelOutput(\u001b[38;5;28mself\u001b[39m\u001b[38;5;241m.\u001b[39mkeys(), \u001b[38;5;28mself\u001b[39m\u001b[38;5;241m.\u001b[39meval_components(\u001b[38;5;241m*\u001b[39margs, \u001b[38;5;241m*\u001b[39m\u001b[38;5;241m*\u001b[39mkwargs))\n",
      "File \u001b[1;32m~\\Anaconda3\\envs\\pyga\\lib\\site-packages\\symfit\\core\\models.py:647\u001b[0m, in \u001b[0;36mBaseCallableModel.eval_components\u001b[1;34m(self, *args, **kwargs)\u001b[0m\n\u001b[0;32m    642\u001b[0m \u001b[38;5;28;01mdef\u001b[39;00m \u001b[38;5;21meval_components\u001b[39m(\u001b[38;5;28mself\u001b[39m, \u001b[38;5;241m*\u001b[39margs, \u001b[38;5;241m*\u001b[39m\u001b[38;5;241m*\u001b[39mkwargs):\n\u001b[0;32m    643\u001b[0m     \u001b[38;5;124;03m\"\"\"\u001b[39;00m\n\u001b[0;32m    644\u001b[0m \u001b[38;5;124;03m    :return: evaluated lambda functions of each of the components in\u001b[39;00m\n\u001b[0;32m    645\u001b[0m \u001b[38;5;124;03m        model_dict, to be used in numerical calculation.\u001b[39;00m\n\u001b[0;32m    646\u001b[0m \u001b[38;5;124;03m    \"\"\"\u001b[39;00m\n\u001b[1;32m--> 647\u001b[0m     bound_arguments \u001b[38;5;241m=\u001b[39m \u001b[38;5;28mself\u001b[39m\u001b[38;5;241m.\u001b[39m__signature__\u001b[38;5;241m.\u001b[39mbind(\u001b[38;5;241m*\u001b[39margs, \u001b[38;5;241m*\u001b[39m\u001b[38;5;241m*\u001b[39mkwargs)\n\u001b[0;32m    648\u001b[0m     kwargs \u001b[38;5;241m=\u001b[39m bound_arguments\u001b[38;5;241m.\u001b[39marguments  \u001b[38;5;66;03m# Only work with kwargs\u001b[39;00m\n\u001b[0;32m    649\u001b[0m     components \u001b[38;5;241m=\u001b[39m \u001b[38;5;28mdict\u001b[39m(\u001b[38;5;28mzip\u001b[39m(\u001b[38;5;28mself\u001b[39m, \u001b[38;5;28mself\u001b[39m\u001b[38;5;241m.\u001b[39mnumerical_components))\n",
      "File \u001b[1;32m~\\Anaconda3\\envs\\pyga\\lib\\inspect.py:3179\u001b[0m, in \u001b[0;36mSignature.bind\u001b[1;34m(self, *args, **kwargs)\u001b[0m\n\u001b[0;32m   3174\u001b[0m \u001b[38;5;28;01mdef\u001b[39;00m \u001b[38;5;21mbind\u001b[39m(\u001b[38;5;28mself\u001b[39m, \u001b[38;5;241m/\u001b[39m, \u001b[38;5;241m*\u001b[39margs, \u001b[38;5;241m*\u001b[39m\u001b[38;5;241m*\u001b[39mkwargs):\n\u001b[0;32m   3175\u001b[0m     \u001b[38;5;124;03m\"\"\"Get a BoundArguments object, that maps the passed `args`\u001b[39;00m\n\u001b[0;32m   3176\u001b[0m \u001b[38;5;124;03m    and `kwargs` to the function's signature.  Raises `TypeError`\u001b[39;00m\n\u001b[0;32m   3177\u001b[0m \u001b[38;5;124;03m    if the passed arguments can not be bound.\u001b[39;00m\n\u001b[0;32m   3178\u001b[0m \u001b[38;5;124;03m    \"\"\"\u001b[39;00m\n\u001b[1;32m-> 3179\u001b[0m     \u001b[38;5;28;01mreturn\u001b[39;00m \u001b[38;5;28;43mself\u001b[39;49m\u001b[38;5;241;43m.\u001b[39;49m\u001b[43m_bind\u001b[49m\u001b[43m(\u001b[49m\u001b[43margs\u001b[49m\u001b[43m,\u001b[49m\u001b[43m \u001b[49m\u001b[43mkwargs\u001b[49m\u001b[43m)\u001b[49m\n",
      "File \u001b[1;32m~\\Anaconda3\\envs\\pyga\\lib\\inspect.py:3094\u001b[0m, in \u001b[0;36mSignature._bind\u001b[1;34m(self, args, kwargs, partial)\u001b[0m\n\u001b[0;32m   3092\u001b[0m                 msg \u001b[38;5;241m=\u001b[39m \u001b[38;5;124m'\u001b[39m\u001b[38;5;124mmissing a required argument: \u001b[39m\u001b[38;5;132;01m{arg!r}\u001b[39;00m\u001b[38;5;124m'\u001b[39m\n\u001b[0;32m   3093\u001b[0m                 msg \u001b[38;5;241m=\u001b[39m msg\u001b[38;5;241m.\u001b[39mformat(arg\u001b[38;5;241m=\u001b[39mparam\u001b[38;5;241m.\u001b[39mname)\n\u001b[1;32m-> 3094\u001b[0m                 \u001b[38;5;28;01mraise\u001b[39;00m \u001b[38;5;167;01mTypeError\u001b[39;00m(msg) \u001b[38;5;28;01mfrom\u001b[39;00m \u001b[38;5;28mNone\u001b[39m\n\u001b[0;32m   3095\u001b[0m \u001b[38;5;28;01melse\u001b[39;00m:\n\u001b[0;32m   3096\u001b[0m     \u001b[38;5;66;03m# We have a positional argument to process\u001b[39;00m\n\u001b[0;32m   3097\u001b[0m     \u001b[38;5;28;01mtry\u001b[39;00m:\n",
      "\u001b[1;31mTypeError\u001b[0m: missing a required argument: 'u1'"
     ]
    }
   ],
   "source": [
    "fit.model(p=-2)"
   ]
  },
  {
   "cell_type": "code",
   "execution_count": null,
   "id": "51749cd6",
   "metadata": {},
   "outputs": [],
   "source": []
  },
  {
   "cell_type": "code",
   "execution_count": 21,
   "id": "ceff4bc0",
   "metadata": {},
   "outputs": [
    {
     "ename": "TypeError",
     "evalue": "missing a required argument: 'u1'",
     "output_type": "error",
     "traceback": [
      "\u001b[1;31m---------------------------------------------------------------------------\u001b[0m",
      "\u001b[1;31mTypeError\u001b[0m                                 Traceback (most recent call last)",
      "Cell \u001b[1;32mIn [21], line 2\u001b[0m\n\u001b[0;32m      1\u001b[0m x \u001b[38;5;241m=\u001b[39m np\u001b[38;5;241m.\u001b[39mlinspace(\u001b[38;5;241m-\u001b[39m\u001b[38;5;241m1\u001b[39m,\u001b[38;5;241m1\u001b[39m)\n\u001b[1;32m----> 2\u001b[0m y, \u001b[38;5;241m=\u001b[39m \u001b[43mfit\u001b[49m\u001b[38;5;241;43m.\u001b[39;49m\u001b[43mmodel\u001b[49m\u001b[43m(\u001b[49m\u001b[43mp\u001b[49m\u001b[38;5;241;43m=\u001b[39;49m\u001b[43mx\u001b[49m\u001b[43m)\u001b[49m\n\u001b[0;32m      3\u001b[0m plt\u001b[38;5;241m.\u001b[39mplot(x, y)\n",
      "File \u001b[1;32m~\\Anaconda3\\envs\\pyga\\lib\\site-packages\\symfit\\core\\models.py:708\u001b[0m, in \u001b[0;36mBaseCallableModel.__call__\u001b[1;34m(self, *args, **kwargs)\u001b[0m\n\u001b[0;32m    695\u001b[0m \u001b[38;5;28;01mdef\u001b[39;00m \u001b[38;5;21m__call__\u001b[39m(\u001b[38;5;28mself\u001b[39m, \u001b[38;5;241m*\u001b[39margs, \u001b[38;5;241m*\u001b[39m\u001b[38;5;241m*\u001b[39mkwargs):\n\u001b[0;32m    696\u001b[0m     \u001b[38;5;124;03m\"\"\"\u001b[39;00m\n\u001b[0;32m    697\u001b[0m \u001b[38;5;124;03m    Evaluate the model for a certain value of the independent vars and parameters.\u001b[39;00m\n\u001b[0;32m    698\u001b[0m \u001b[38;5;124;03m    Signature for this function contains independent vars and parameters, NOT dependent and sigma vars.\u001b[39;00m\n\u001b[1;32m   (...)\u001b[0m\n\u001b[0;32m    706\u001b[0m \u001b[38;5;124;03m        even for scalar valued functions. This is done for consistency.\u001b[39;00m\n\u001b[0;32m    707\u001b[0m \u001b[38;5;124;03m    \"\"\"\u001b[39;00m\n\u001b[1;32m--> 708\u001b[0m     \u001b[38;5;28;01mreturn\u001b[39;00m ModelOutput(\u001b[38;5;28mself\u001b[39m\u001b[38;5;241m.\u001b[39mkeys(), \u001b[38;5;28mself\u001b[39m\u001b[38;5;241m.\u001b[39meval_components(\u001b[38;5;241m*\u001b[39margs, \u001b[38;5;241m*\u001b[39m\u001b[38;5;241m*\u001b[39mkwargs))\n",
      "File \u001b[1;32m~\\Anaconda3\\envs\\pyga\\lib\\site-packages\\symfit\\core\\models.py:647\u001b[0m, in \u001b[0;36mBaseCallableModel.eval_components\u001b[1;34m(self, *args, **kwargs)\u001b[0m\n\u001b[0;32m    642\u001b[0m \u001b[38;5;28;01mdef\u001b[39;00m \u001b[38;5;21meval_components\u001b[39m(\u001b[38;5;28mself\u001b[39m, \u001b[38;5;241m*\u001b[39margs, \u001b[38;5;241m*\u001b[39m\u001b[38;5;241m*\u001b[39mkwargs):\n\u001b[0;32m    643\u001b[0m     \u001b[38;5;124;03m\"\"\"\u001b[39;00m\n\u001b[0;32m    644\u001b[0m \u001b[38;5;124;03m    :return: evaluated lambda functions of each of the components in\u001b[39;00m\n\u001b[0;32m    645\u001b[0m \u001b[38;5;124;03m        model_dict, to be used in numerical calculation.\u001b[39;00m\n\u001b[0;32m    646\u001b[0m \u001b[38;5;124;03m    \"\"\"\u001b[39;00m\n\u001b[1;32m--> 647\u001b[0m     bound_arguments \u001b[38;5;241m=\u001b[39m \u001b[38;5;28mself\u001b[39m\u001b[38;5;241m.\u001b[39m__signature__\u001b[38;5;241m.\u001b[39mbind(\u001b[38;5;241m*\u001b[39margs, \u001b[38;5;241m*\u001b[39m\u001b[38;5;241m*\u001b[39mkwargs)\n\u001b[0;32m    648\u001b[0m     kwargs \u001b[38;5;241m=\u001b[39m bound_arguments\u001b[38;5;241m.\u001b[39marguments  \u001b[38;5;66;03m# Only work with kwargs\u001b[39;00m\n\u001b[0;32m    649\u001b[0m     components \u001b[38;5;241m=\u001b[39m \u001b[38;5;28mdict\u001b[39m(\u001b[38;5;28mzip\u001b[39m(\u001b[38;5;28mself\u001b[39m, \u001b[38;5;28mself\u001b[39m\u001b[38;5;241m.\u001b[39mnumerical_components))\n",
      "File \u001b[1;32m~\\Anaconda3\\envs\\pyga\\lib\\inspect.py:3179\u001b[0m, in \u001b[0;36mSignature.bind\u001b[1;34m(self, *args, **kwargs)\u001b[0m\n\u001b[0;32m   3174\u001b[0m \u001b[38;5;28;01mdef\u001b[39;00m \u001b[38;5;21mbind\u001b[39m(\u001b[38;5;28mself\u001b[39m, \u001b[38;5;241m/\u001b[39m, \u001b[38;5;241m*\u001b[39margs, \u001b[38;5;241m*\u001b[39m\u001b[38;5;241m*\u001b[39mkwargs):\n\u001b[0;32m   3175\u001b[0m     \u001b[38;5;124;03m\"\"\"Get a BoundArguments object, that maps the passed `args`\u001b[39;00m\n\u001b[0;32m   3176\u001b[0m \u001b[38;5;124;03m    and `kwargs` to the function's signature.  Raises `TypeError`\u001b[39;00m\n\u001b[0;32m   3177\u001b[0m \u001b[38;5;124;03m    if the passed arguments can not be bound.\u001b[39;00m\n\u001b[0;32m   3178\u001b[0m \u001b[38;5;124;03m    \"\"\"\u001b[39;00m\n\u001b[1;32m-> 3179\u001b[0m     \u001b[38;5;28;01mreturn\u001b[39;00m \u001b[38;5;28;43mself\u001b[39;49m\u001b[38;5;241;43m.\u001b[39;49m\u001b[43m_bind\u001b[49m\u001b[43m(\u001b[49m\u001b[43margs\u001b[49m\u001b[43m,\u001b[49m\u001b[43m \u001b[49m\u001b[43mkwargs\u001b[49m\u001b[43m)\u001b[49m\n",
      "File \u001b[1;32m~\\Anaconda3\\envs\\pyga\\lib\\inspect.py:3094\u001b[0m, in \u001b[0;36mSignature._bind\u001b[1;34m(self, args, kwargs, partial)\u001b[0m\n\u001b[0;32m   3092\u001b[0m                 msg \u001b[38;5;241m=\u001b[39m \u001b[38;5;124m'\u001b[39m\u001b[38;5;124mmissing a required argument: \u001b[39m\u001b[38;5;132;01m{arg!r}\u001b[39;00m\u001b[38;5;124m'\u001b[39m\n\u001b[0;32m   3093\u001b[0m                 msg \u001b[38;5;241m=\u001b[39m msg\u001b[38;5;241m.\u001b[39mformat(arg\u001b[38;5;241m=\u001b[39mparam\u001b[38;5;241m.\u001b[39mname)\n\u001b[1;32m-> 3094\u001b[0m                 \u001b[38;5;28;01mraise\u001b[39;00m \u001b[38;5;167;01mTypeError\u001b[39;00m(msg) \u001b[38;5;28;01mfrom\u001b[39;00m \u001b[38;5;28mNone\u001b[39m\n\u001b[0;32m   3095\u001b[0m \u001b[38;5;28;01melse\u001b[39;00m:\n\u001b[0;32m   3096\u001b[0m     \u001b[38;5;66;03m# We have a positional argument to process\u001b[39;00m\n\u001b[0;32m   3097\u001b[0m     \u001b[38;5;28;01mtry\u001b[39;00m:\n",
      "\u001b[1;31mTypeError\u001b[0m: missing a required argument: 'u1'"
     ]
    }
   ],
   "source": [
    "x = np.linspace(-1,1)\n",
    "y, = fit.model(p=x)\n",
    "plt.plot(x, y)"
   ]
  },
  {
   "cell_type": "code",
   "execution_count": 92,
   "id": "c2e75e66",
   "metadata": {},
   "outputs": [
    {
     "name": "stdout",
     "output_type": "stream",
     "text": [
      "(2) * e12 + (2) * e34\n",
      "(-8) * 1 + (8) * e1234\n"
     ]
    },
    {
     "data": {
      "text/plain": [
       "(-4.0, -4.0)"
      ]
     },
     "execution_count": 92,
     "metadata": {},
     "output_type": "execute_result"
    }
   ],
   "source": [
    "alg = Algebra(4)\n",
    "# bvals = np.random.random(6)\n",
    "B = alg.bivector({3:2, 12:2})\n",
    "Bsq = B*B\n",
    "print(B)\n",
    "print(Bsq)\n",
    "lp = (Bsq[0] + np.sqrt(Bsq[0]**2 - Bsq[15]**2))/2\n",
    "lm = (Bsq[0] - np.sqrt(Bsq[0]**2 - Bsq[15]**2))/2\n",
    "lp, lm\n",
    "# Bsq[0]**2 - Bsq[15]**2"
   ]
  },
  {
   "cell_type": "code",
   "execution_count": 93,
   "id": "cb1d3ffe",
   "metadata": {},
   "outputs": [],
   "source": [
    "bs = parameters(' '.join(f'b_{i}' for i in range(1, 7)), value=2)"
   ]
  },
  {
   "cell_type": "code",
   "execution_count": 94,
   "id": "1914892c",
   "metadata": {},
   "outputs": [
    {
     "data": {
      "text/plain": [
       "MultiVector(algebra=Algebra(p=4, q=0, r=0, cse=True, precompute='none', numba=False, graded=False, simplify=True), _values=(-b_1**2 - b_2**2 - b_3**2 - b_4**2 - b_5**2 - b_6**2, 2*b_1*b_6 - 2*b_2*b_5 + 2*b_3*b_4), _keys=(0, 15))"
      ]
     },
     "execution_count": 94,
     "metadata": {},
     "output_type": "execute_result"
    }
   ],
   "source": [
    "b = alg.bivector(bs)\n",
    "bsq = b*b\n",
    "bsq"
   ]
  },
  {
   "cell_type": "code",
   "execution_count": null,
   "id": "1442b3a0",
   "metadata": {},
   "outputs": [],
   "source": []
  },
  {
   "cell_type": "code",
   "execution_count": 95,
   "id": "c255ac13",
   "metadata": {},
   "outputs": [
    {
     "name": "stdout",
     "output_type": "stream",
     "text": [
      "(-2*b_3 - 2*b_4) * e13 + (2*b_2 - 2*b_5) * e14 + (2*b_2 - 2*b_5) * e23 + (2*b_3 + 2*b_4) * e24\n",
      "(-2*(2*b_2 - 2*b_5)**2 + (-2*b_3 - 2*b_4)*(2*b_3 + 2*b_4) - (2*b_3 + 2*b_4)**2) * 1 + (2*(2*b_2 - 2*b_5)**2 - (-2*b_3 - 2*b_4)*(2*b_3 + 2*b_4) + (2*b_3 + 2*b_4)**2) * e1234\n"
     ]
    }
   ],
   "source": [
    "bcpB = b.cp(B)\n",
    "print(bcpB)\n",
    "bcpB_sq = bcpB * bcpB\n",
    "print(bcpB_sq)"
   ]
  },
  {
   "cell_type": "code",
   "execution_count": 96,
   "id": "ca8fd277",
   "metadata": {},
   "outputs": [
    {
     "data": {
      "text/latex": [
       "\\begin{align}x(; b_{1}, b_{2}, b_{3}, b_{4}, b_{5}, b_{6}) & = - b_{1}^{2} - b_{2}^{2} - b_{3}^{2} - b_{4}^{2} - b_{5}^{2} - b_{6}^{2}\\\\x_{1234}(; b_{1}, b_{2}, b_{3}, b_{4}, b_{5}, b_{6}) & = 2 b_{1} b_{6} - 2 b_{2} b_{5} + 2 b_{3} b_{4}\\end{align}"
      ],
      "text/plain": [
       "<symfit.core.models.Model at 0x26778f5c970>"
      ]
     },
     "execution_count": 96,
     "metadata": {},
     "output_type": "execute_result"
    }
   ],
   "source": [
    "# x = alg.bivector([Variable(f\"x{alg.bin2canon[i][1:]}\") for i in alg.indices_for_grade[2]])\n",
    "# model_dict = {x[i]: bcpB[i] for i in x.keys() if i in bcpB}\n",
    "# model = Model(model_dict)\n",
    "# model\n",
    "# x, x1234 = symbols('x x1234', cls=Variable)\n",
    "# model_dict = {x: bcpB_sq[0], x1234: bcpB_sq[15]}\n",
    "# model = Model(model_dict)\n",
    "# model\n",
    "x, x1234 = symbols('x x1234', cls=Variable)\n",
    "model_dict = {x: bsq[0], x1234: bsq[15]}\n",
    "model = Model(model_dict)\n",
    "model"
   ]
  },
  {
   "cell_type": "code",
   "execution_count": 97,
   "id": "ace58808",
   "metadata": {},
   "outputs": [],
   "source": [
    "constraints = [Eq(bcpB_i, 0) for bcpB_i in bcpB.values()]\n",
    "fit = Fit(model_dict, **{x.name: np.atleast_2d(lp), x1234.name: np.atleast_2d(0)}, constraints=constraints)\n",
    "results = fit.execute()"
   ]
  },
  {
   "cell_type": "code",
   "execution_count": 98,
   "id": "b616e312",
   "metadata": {},
   "outputs": [
    {
     "name": "stdout",
     "output_type": "stream",
     "text": [
      "\n",
      "Parameter Value        Standard Deviation\n",
      "b_1       2.000000e+00 nan\n",
      "b_2       2.000000e+00 nan\n",
      "b_3       2.000000e+00 nan\n",
      "b_4       2.000000e+00 nan\n",
      "b_5       2.000000e+00 nan\n",
      "b_6       2.000000e+00 nan\n",
      "Status message         Singular matrix C in LSQ subproblem\n",
      "Number of iterations   1\n",
      "Objective              <symfit.core.objectives.LeastSquares object at 0x0000026778F5F6A0>\n",
      "Minimizer              <symfit.core.minimizers.SLSQP object at 0x0000026778F5F730>\n",
      "\n",
      "Goodness of fit qualifiers:\n",
      "chi_squared            464.0\n",
      "objective_value        232.0\n",
      "r_squared              -inf\n",
      "\n",
      "Constraints:\n",
      "--------------------\n",
      "Question: -2*b_3 - 2*b_4 == 0?\n",
      "Answer:   -8.0\n",
      "\n",
      "Question: 2*b_2 - 2*b_5 == 0?\n",
      "Answer:   0.0\n",
      "\n",
      "Question: 2*b_2 - 2*b_5 == 0?\n",
      "Answer:   0.0\n",
      "\n",
      "Question: 2*b_3 + 2*b_4 == 0?\n",
      "Answer:   8.0\n",
      "\n",
      "\n"
     ]
    }
   ],
   "source": [
    "print(results)"
   ]
  },
  {
   "cell_type": "code",
   "execution_count": 88,
   "id": "d4f71a95",
   "metadata": {},
   "outputs": [
    {
     "data": {
      "text/plain": [
       "ModelOutput(variables=[x, x1234], output=[array([-2.00000014]), array([2.00000014])])"
      ]
     },
     "execution_count": 88,
     "metadata": {},
     "output_type": "execute_result"
    }
   ],
   "source": [
    "model(**results.params)"
   ]
  },
  {
   "cell_type": "code",
   "execution_count": null,
   "id": "c91589aa",
   "metadata": {},
   "outputs": [],
   "source": []
  },
  {
   "cell_type": "code",
   "execution_count": 89,
   "id": "581f0c69",
   "metadata": {},
   "outputs": [
    {
     "name": "stdout",
     "output_type": "stream",
     "text": [
      "(1.0000000473846042) * e12 + (-4.219012822309351e-22) * e13 + (5.082197683525802e-21) * e14 + (-6.776263578034403e-21) * e23 + (-8.438025644618822e-22) * e24 + (1.0000000241544578) * e34\n",
      "\n",
      "(-2.000000143078127) * 1 + (0.0) * e12 + (0.0) * e13 + (0.0) * e14 + (0.0) * e23 + (-1.504632769052528e-36) * e24 + (0.0) * e34 + (2.0000001430781262) * e1234\n",
      "\n",
      "(8.470329472543003e-21) * e13 + (1.2657038466928294e-21) * e14 + (1.2037062152420224e-35) * e23 + (3.3881317890172014e-21) * e24\n"
     ]
    }
   ],
   "source": [
    "b_re = b(**results.params)\n",
    "print(b_re)\n",
    "print()\n",
    "print(b_re*b_re)\n",
    "print()\n",
    "print(b_re.cp(B))"
   ]
  },
  {
   "cell_type": "code",
   "execution_count": null,
   "id": "a9f13c65",
   "metadata": {},
   "outputs": [],
   "source": []
  }
 ],
 "metadata": {
  "kernelspec": {
   "display_name": "Python 3 (ipykernel)",
   "language": "python",
   "name": "python3"
  },
  "language_info": {
   "codemirror_mode": {
    "name": "ipython",
    "version": 3
   },
   "file_extension": ".py",
   "mimetype": "text/x-python",
   "name": "python",
   "nbconvert_exporter": "python",
   "pygments_lexer": "ipython3",
   "version": "3.10.6"
  }
 },
 "nbformat": 4,
 "nbformat_minor": 5
}
