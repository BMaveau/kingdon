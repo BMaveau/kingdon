{
 "cells": [
  {
   "cell_type": "markdown",
   "id": "59eb2809",
   "metadata": {},
   "source": [
    "# Poincloud rotor estimation\n",
    "\n",
    "Consider the following challenge. We are presented with an input pointcloud $p_i$, and an output pointcloud $q_i = R[p_i] + \\eta_i$, where $R$ is an unknown tranformation, and $\\eta_i$ is Gaussian noise. The challenge is to reconstruct the transformation $R$.\n",
    "\n",
    "In order to do this, we construct a symbolic tranformation $R$, whose entries are `symfit.Parameter` objects. We can then use `symfit` to find the rotor $R$."
   ]
  },
  {
   "cell_type": "code",
   "execution_count": 1,
   "id": "5c08628c",
   "metadata": {},
   "outputs": [],
   "source": [
    "from kingdon import Algebra\n",
    "from symfit import Fit, Model, CallableModel, Variable, Parameter, Eq, Mul\n",
    "from symfit.core.minimizers import *\n",
    "import numpy as np"
   ]
  },
  {
   "cell_type": "markdown",
   "id": "73865566",
   "metadata": {},
   "source": [
    "We set up the number of points `n_points` in the pointcloud, the number of (Euclidean) dimensions of the modeling space `d`, and the standard deviation `sig` of the Gaussian distribution."
   ]
  },
  {
   "cell_type": "code",
   "execution_count": 2,
   "id": "07bf4671",
   "metadata": {},
   "outputs": [],
   "source": [
    "n_points = 10\n",
    "d = 2\n",
    "sig = 0.02"
   ]
  },
  {
   "cell_type": "code",
   "execution_count": 3,
   "id": "091f5c8d",
   "metadata": {},
   "outputs": [],
   "source": [
    "point_vals = np.zeros((d+1, n_points))\n",
    "noise_vals = np.zeros((d+1, n_points))\n",
    "point_vals[-1, :] = np.ones(n_points)\n",
    "point_vals[:d, :] = np.random.random((d, n_points))\n",
    "noise_vals[:d, :] = np.random.normal(0.0, sig, (d, n_points))"
   ]
  },
  {
   "cell_type": "code",
   "execution_count": 4,
   "id": "d742e36d",
   "metadata": {},
   "outputs": [],
   "source": [
    "alg = Algebra(d, 0, 1)\n",
    "locals().update(alg.blades)"
   ]
  },
  {
   "cell_type": "markdown",
   "id": "4cec591d",
   "metadata": {},
   "source": [
    "Create the points and noise as pseudovector of grade `d`."
   ]
  },
  {
   "cell_type": "code",
   "execution_count": 5,
   "id": "1dea6b61",
   "metadata": {},
   "outputs": [
    {
     "data": {
      "text/plain": [
       "[0.64569992 0.65628188 0.66541719 0.07577262 0.48601004 0.56231092\n",
       " 0.19984486 0.81915564 0.65237356 0.64191914] 𝐞₀₁ + [0.27107672 0.57899972 0.2397734  0.52013176 0.2937807  0.58746203\n",
       " 0.79079637 0.90512958 0.97893185 0.36051413] 𝐞₀₂ + [1. 1. 1. 1. 1. 1. 1. 1. 1. 1.] 𝐞₁₂"
      ]
     },
     "execution_count": 5,
     "metadata": {},
     "output_type": "execute_result"
    }
   ],
   "source": [
    "noise = alg.multivector(noise_vals, grades=(d,))\n",
    "p = alg.multivector(point_vals, grades=(d,))\n",
    "p"
   ]
  },
  {
   "cell_type": "markdown",
   "id": "c75f5df2",
   "metadata": {},
   "source": [
    "As the input rotor $R$, we use a translation by $0.5$ in the $\\mathbb{e}_{20}$ direction, followed by a rotation around $\\mathbb{e}_{12}$."
   ]
  },
  {
   "cell_type": "code",
   "execution_count": 6,
   "id": "5e975b48",
   "metadata": {},
   "outputs": [
    {
     "name": "stdout",
     "output_type": "stream",
     "text": [
      "T=1 + -0.5 𝐞₀₂\n",
      "S=0.5 + 0.866 𝐞₁₂\n"
     ]
    }
   ],
   "source": [
    "t = np.pi/3\n",
    "T = alg.multivector({'e': 1, 'e02': -0.5})\n",
    "print(f'{T=!s}')\n",
    "S = alg.multivector({'e': np.cos(t), 'e12': np.sin(t)})\n",
    "print(f'{S=!s}')\n",
    "R = S*T\n"
   ]
  },
  {
   "cell_type": "markdown",
   "id": "88942d1a",
   "metadata": {},
   "source": [
    "We can now create the transformed pointcloud $q$, and visualize both both $p$ and $q$."
   ]
  },
  {
   "cell_type": "code",
   "execution_count": 7,
   "id": "7bfb9aa6",
   "metadata": {},
   "outputs": [],
   "source": [
    "q = R.sw(p) + noise"
   ]
  },
  {
   "cell_type": "code",
   "execution_count": 8,
   "id": "d1f304ab",
   "metadata": {},
   "outputs": [
    {
     "data": {
      "application/vnd.jupyter.widget-view+json": {
       "model_id": "1e6439dea59c40df98cff1ba8e976be1",
       "version_major": 2,
       "version_minor": 0
      },
      "text/plain": [
       "GraphWidget(signature=[0, 1, 1], subjects=[16711680, {'mv': [0, 0, 0, 0, 0.6456999182895626, 0.271076721333523…"
      ]
     },
     "execution_count": 8,
     "metadata": {},
     "output_type": "execute_result"
    }
   ],
   "source": [
    "alg.graph(\n",
    "    0xff0000, *p.itermv(), 'p', \n",
    "    0x0000ff, *q.itermv(), 'q', \n",
    "    0x000000, R.grade(2), 'axis'\n",
    ")"
   ]
  },
  {
   "cell_type": "markdown",
   "id": "d1ad552b",
   "metadata": {},
   "source": [
    "We will now setup a symfit model to describe this transformation, where the rotor $R$ consists of `Parameter`'s, and the pointclouds $p$ and $q$ are symfit `Variable`'s."
   ]
  },
  {
   "cell_type": "code",
   "execution_count": 9,
   "id": "aefb3cbd",
   "metadata": {},
   "outputs": [
    {
     "name": "stdout",
     "output_type": "stream",
     "text": [
      "R + R01 𝐞₀₁ + R02 𝐞₀₂ + R12 𝐞₁₂\n",
      "p01 𝐞₀₁ + p02 𝐞₀₂ + p12 𝐞₁₂\n",
      "q01 𝐞₀₁ + q02 𝐞₀₂ + q12 𝐞₁₂\n"
     ]
    }
   ],
   "source": [
    "R_par = alg.evenmv(name='R', symbolcls=Parameter)\n",
    "p_var = alg.multivector(name='p', symbolcls=Variable, grades=(d,))\n",
    "q_var = alg.multivector(name='q', symbolcls=Variable, grades=(d,))\n",
    "print(R_par)\n",
    "print(p_var)\n",
    "print(q_var)"
   ]
  },
  {
   "cell_type": "code",
   "execution_count": 10,
   "id": "7e72e068",
   "metadata": {},
   "outputs": [
    {
     "data": {
      "text/latex": [
       "\\begin{align}q_{01}(p_{01}, p_{02}, p_{12}; R, R_{01}, R_{02}, R_{12}) & = - R R_{02} p_{12} + R \\left(R p_{01} - R_{02} p_{12} + R_{12} p_{02}\\right) + R_{01} R_{12} p_{12} + R_{12} \\left(R p_{02} + R_{01} p_{12} - R_{12} p_{01}\\right)\\\\q_{02}(p_{01}, p_{02}, p_{12}; R, R_{01}, R_{02}, R_{12}) & = R R_{01} p_{12} + R \\left(R p_{02} + R_{01} p_{12} - R_{12} p_{01}\\right) + R_{02} R_{12} p_{12} - R_{12} \\left(R p_{01} - R_{02} p_{12} + R_{12} p_{02}\\right)\\\\q_{12}(p_{12}; R, R_{12}) & = R^{2} p_{12} + R_{12}^{2} p_{12}\\end{align}"
      ],
      "text/plain": [
       "<symfit.core.models.Model at 0x244c88f2320>"
      ]
     },
     "execution_count": 10,
     "metadata": {},
     "output_type": "execute_result"
    }
   ],
   "source": [
    "p_var_trans = R_par.sw(p_var).filter()\n",
    "model = Model({q_var[k]: expr for k, expr in p_var_trans.items()})\n",
    "model"
   ]
  },
  {
   "cell_type": "markdown",
   "id": "30378c77",
   "metadata": {},
   "source": [
    "Prepare the data for `symfit`."
   ]
  },
  {
   "cell_type": "code",
   "execution_count": 11,
   "id": "c8d31d48",
   "metadata": {},
   "outputs": [],
   "source": [
    "datadict = {p_var[k].name: p[k] for k in p_var.keys()}\n",
    "datadict.update({q_var[k].name: q[k] for k in q_var.keys()})"
   ]
  },
  {
   "cell_type": "markdown",
   "id": "668c9d93",
   "metadata": {},
   "source": [
    "Initiate a `symfit.Fit` object with the model and data. We additionally supply the demand $R \\widetilde{R} = 1$, since rotors should be normalized (i.e., othonormal transformations)."
   ]
  },
  {
   "cell_type": "code",
   "execution_count": 12,
   "id": "97427a69",
   "metadata": {},
   "outputs": [],
   "source": [
    "constraints = [\n",
    "    Eq(R_par.normsq()[0], 1)\n",
    "]\n",
    "fit = Fit(model, **datadict, constraints=constraints)"
   ]
  },
  {
   "cell_type": "code",
   "execution_count": 13,
   "id": "e9b9e56e",
   "metadata": {},
   "outputs": [
    {
     "name": "stdout",
     "output_type": "stream",
     "text": [
      "\n",
      "Parameter Value        Standard Deviation\n",
      "R         5.001282e-01 1.694921e-02\n",
      "R01       -4.310361e-01 2.070653e-02\n",
      "R02       -2.551387e-01 1.487613e-02\n",
      "R12       8.659514e-01 1.096129e-02\n",
      "Status message         Optimization terminated successfully\n",
      "Number of iterations   21\n",
      "Objective              <symfit.core.objectives.LeastSquares object at 0x00000244C8B630D0>\n",
      "Minimizer              <symfit.core.minimizers.SLSQP object at 0x00000244C8B636A0>\n",
      "\n",
      "Goodness of fit qualifiers:\n",
      "chi_squared            0.009766235339195435\n",
      "objective_value        0.004883117669597718\n",
      "r_squared              0.990516697764423\n",
      "\n",
      "Constraints:\n",
      "--------------------\n",
      "Question: R**2 + R12**2 - 1 == 0?\n",
      "Answer:   1.0024647778550388e-10\n",
      "\n",
      "\n"
     ]
    }
   ],
   "source": [
    "results = fit.execute()\n",
    "print(results)"
   ]
  },
  {
   "cell_type": "markdown",
   "id": "b029b3e0",
   "metadata": {},
   "source": [
    "`symfit` has used SLSQP because of the constraint, and we see that we have high accuracy on this constraint. Let us print the reconstructed rotor and it's norm. Furthermore, we can now apply $\\widetilde{R}$ to $q$ to transform it back to the location of $p$ so we can visually inspect the quality of the reconstruction."
   ]
  },
  {
   "cell_type": "code",
   "execution_count": 14,
   "id": "2f072bec",
   "metadata": {},
   "outputs": [
    {
     "name": "stdout",
     "output_type": "stream",
     "text": [
      "0.5 + -0.431 𝐞₀₁ + -0.255 𝐞₀₂ + 0.866 𝐞₁₂\n",
      "1.0\n"
     ]
    }
   ],
   "source": [
    "R_re = R_par(**results.params)\n",
    "print(R_re)\n",
    "print(R_re.normsq())"
   ]
  },
  {
   "cell_type": "code",
   "execution_count": 15,
   "id": "8d0e25ed",
   "metadata": {},
   "outputs": [],
   "source": [
    "p_reconstructed = (~R_re).sw(q)"
   ]
  },
  {
   "cell_type": "code",
   "execution_count": 16,
   "id": "d8059b46",
   "metadata": {},
   "outputs": [
    {
     "data": {
      "application/vnd.jupyter.widget-view+json": {
       "model_id": "0731c912cfc54213b8e0dd833b931d1b",
       "version_major": 2,
       "version_minor": 0
      },
      "text/plain": [
       "GraphWidget(signature=[0, 1, 1], subjects=[16711680, {'mv': [0, 0, 0, 0, 0.6456999182895626, 0.271076721333523…"
      ]
     },
     "execution_count": 16,
     "metadata": {},
     "output_type": "execute_result"
    }
   ],
   "source": [
    "alg.graph(\n",
    "    0xff0000, *p.itermv(),\n",
    "    0x0000ff, *q.itermv(), 'q', \n",
    "    0x880088, *p_reconstructed.itermv(), 'p reconstructed',\n",
    "    0x000000, R_re.grade(2), 'reconst. axis'\n",
    ")"
   ]
  },
  {
   "cell_type": "markdown",
   "id": "910a5aea",
   "metadata": {},
   "source": [
    "We see that we have excellent agreement between the original and reconstructed pointclouds."
   ]
  },
  {
   "cell_type": "code",
   "execution_count": null,
   "id": "df7ba23a",
   "metadata": {},
   "outputs": [],
   "source": []
  },
  {
   "cell_type": "code",
   "execution_count": null,
   "id": "8cfb042f",
   "metadata": {},
   "outputs": [],
   "source": []
  }
 ],
 "metadata": {
  "kernelspec": {
   "display_name": "Python 3 (ipykernel)",
   "language": "python",
   "name": "python3"
  },
  "language_info": {
   "codemirror_mode": {
    "name": "ipython",
    "version": 3
   },
   "file_extension": ".py",
   "mimetype": "text/x-python",
   "name": "python",
   "nbconvert_exporter": "python",
   "pygments_lexer": "ipython3",
   "version": "3.10.13"
  }
 },
 "nbformat": 4,
 "nbformat_minor": 5
}
