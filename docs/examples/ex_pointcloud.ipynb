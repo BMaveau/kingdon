{
 "cells": [
  {
   "cell_type": "markdown",
   "id": "59eb2809",
   "metadata": {},
   "source": [
    "# Poincloud rotor estimation\n",
    "\n",
    "Consider the following challenge. We are presented with an input pointcloud $p_i$, and an output pointcloud $q_i = R[p_i] + \\eta_i$, where $R$ is an unknown tranformation, and $\\eta_i$ is Gaussian noise. The challenge is to reconstruct the transformation $R$.\n",
    "\n",
    "In order to do this, we construct a symbolic tranformation $R$, whose entries are `symfit.Parameter` objects. We can then use `symfit` to find the rotor $R$."
   ]
  },
  {
   "cell_type": "code",
   "execution_count": 1,
   "id": "5c08628c",
   "metadata": {},
   "outputs": [],
   "source": [
    "from kingdon import Algebra\n",
    "from symfit import Fit, Model, CallableModel, Variable, Parameter, Eq, Mul\n",
    "from symfit.core.minimizers import *\n",
    "import numpy as np"
   ]
  },
  {
   "cell_type": "markdown",
   "id": "73865566",
   "metadata": {},
   "source": [
    "We set up the number of points `n_points` in the pointcloud, the number of (Euclidean) dimensions of the modeling space `d`, and the standard deviation `sig` of the Gaussian distribution."
   ]
  },
  {
   "cell_type": "code",
   "execution_count": 2,
   "id": "07bf4671",
   "metadata": {},
   "outputs": [],
   "source": [
    "n_points = 10\n",
    "d = 2\n",
    "sig = 0.02"
   ]
  },
  {
   "cell_type": "code",
   "execution_count": 3,
   "id": "091f5c8d",
   "metadata": {},
   "outputs": [],
   "source": [
    "point_vals = np.zeros((d+1, n_points))\n",
    "noise_vals = np.zeros((d+1, n_points))\n",
    "point_vals[-1, :] = np.ones(n_points)\n",
    "point_vals[:d, :] = np.random.random((d, n_points))\n",
    "noise_vals[:d, :] = np.random.normal(0.0, sig, (d, n_points))"
   ]
  },
  {
   "cell_type": "code",
   "execution_count": 4,
   "id": "d742e36d",
   "metadata": {},
   "outputs": [],
   "source": [
    "alg = Algebra(d, 0, 1)\n",
    "locals().update(alg.blades)"
   ]
  },
  {
   "cell_type": "markdown",
   "id": "4cec591d",
   "metadata": {},
   "source": [
    "Create the points and noise as pseudovector of grade `d`."
   ]
  },
  {
   "cell_type": "code",
   "execution_count": 5,
   "id": "1dea6b61",
   "metadata": {},
   "outputs": [
    {
     "data": {
      "text/plain": [
       "MultiVector(algebra=Algebra(p=2, q=0, r=1, signature=array([0, 1, 1]), cse=True, precompute='none', numba=False, graded=False, simplify=True), _values=array([[0.53012509, 0.10901969, 0.59905615, 0.32591349, 0.00989824,\n",
       "        0.25001473, 0.45760595, 0.91721811, 0.02428319, 0.28927767],\n",
       "       [0.76848962, 0.68648854, 0.46787397, 0.01924775, 0.9931417 ,\n",
       "        0.59096207, 0.02953019, 0.49762635, 0.62617139, 0.31286765],\n",
       "       [1.        , 1.        , 1.        , 1.        , 1.        ,\n",
       "        1.        , 1.        , 1.        , 1.        , 1.        ]]), _keys=(3, 5, 6))"
      ]
     },
     "execution_count": 5,
     "metadata": {},
     "output_type": "execute_result"
    }
   ],
   "source": [
    "noise = alg.multivector(noise_vals, grades=(d,))\n",
    "p = alg.multivector(point_vals, grades=(d,))\n",
    "p"
   ]
  },
  {
   "cell_type": "markdown",
   "id": "c75f5df2",
   "metadata": {},
   "source": [
    "As the input rotor $R$, we use a translation by $0.5$ in the $\\mathbb{e}_{20}$ direction, followed by a rotation around $\\mathbb{e}_{12}$."
   ]
  },
  {
   "cell_type": "code",
   "execution_count": 6,
   "id": "5e975b48",
   "metadata": {},
   "outputs": [
    {
     "name": "stdout",
     "output_type": "stream",
     "text": [
      "T=1 e + -0.5e02\n",
      "S=0.5e + 0.866e12\n"
     ]
    }
   ],
   "source": [
    "t = np.pi/3\n",
    "T = alg.multivector({'e': 1, 'e02': -0.5})\n",
    "print(f'{T=!s}')\n",
    "S = alg.multivector({'e': np.cos(t), 'e12': np.sin(t)})\n",
    "print(f'{S=!s}')\n",
    "R = S*T\n"
   ]
  },
  {
   "cell_type": "markdown",
   "id": "88942d1a",
   "metadata": {},
   "source": [
    "We can now create the transformed pointcloud $q$, and visualize both both $p$ and $q$."
   ]
  },
  {
   "cell_type": "code",
   "execution_count": 7,
   "id": "7bfb9aa6",
   "metadata": {},
   "outputs": [],
   "source": [
    "q = R.conj(p) + noise"
   ]
  },
  {
   "cell_type": "code",
   "execution_count": 8,
   "id": "d1f304ab",
   "metadata": {},
   "outputs": [
    {
     "data": {
      "application/javascript": [
       "\n",
       "        fetch(\"https://enki.ws/ganja.js/ganja.js\")\n",
       "        .then(x=>x.text())\n",
       "        .then(ganja=>{\n",
       "\n",
       "          var f = new Function(\"module\",ganja);\n",
       "          var module = {exports:{}};\n",
       "          f(module);\n",
       "          var Algebra = module.exports;\n",
       "\n",
       "          var canvas = Algebra(2, 0, 1,()=>{\n",
       "              var data = [16711680, [0, 0, 0, 0, 0.5301250896410105, 0.7684896160983193, 1.0, 0], [0, 0, 0, 0, 0.10901968536025819, 0.6864885443010335, 1.0, 0], [0, 0, 0, 0, 0.5990561468325517, 0.4678739671067561, 1.0, 0], [0, 0, 0, 0, 0.3259134901847519, 0.019247750198401303, 1.0, 0], [0, 0, 0, 0, 0.009898241005036557, 0.9931416990708005, 1.0, 0], [0, 0, 0, 0, 0.25001472981051953, 0.5909620653257089, 1.0, 0], [0, 0, 0, 0, 0.45760594583049574, 0.029530187528896246, 1.0, 0], [0, 0, 0, 0, 0.9172181129391489, 0.4976263539876348, 1.0, 0], [0, 0, 0, 0, 0.024283185446231537, 0.6261713924581105, 1.0, 0], [0, 0, 0, 0, 0.2892776716500949, 0.3128676541656735, 1.0, 0], \"p\", 255, [0, 0, 0, 0, -0.10674589255345503, -1.6735766965820282, 1.0, 0], [0, 0, 0, 0, -0.00729324443553498, -1.3182308420803064, 1.0, 0], [0, 0, 0, 0, -0.36317690233601563, -1.6143593827654934, 1.0, 0], [0, 0, 0, 0, -0.5987852021685599, -1.1726065717331904, 1.0, 0], [0, 0, 0, 0, 0.36703453110502965, -1.390524019835093, 1.0, 0], [0, 0, 0, 0, -0.08428416803890966, -1.3621902989398107, 1.0, 0], [0, 0, 0, 0, -0.7083140409743893, -1.276487953786359, 1.0, 0], [0, 0, 0, 0, -0.5518862670829539, -1.9183244757410058, 1.0, 0], [0, 0, 0, 0, 0.009467688080572377, -1.1810221555381157, 1.0, 0], [0, 0, 0, 0, -0.38067087145585315, -1.298899457535901, 1.0, 0], \"q\", 0, [0, 0, 0, 0, -0.4330127018922193, -0.25000000000000006, 0.8660254037844386, 0], \"axis\"].map(x=>x.length==8?new Element(x):x);\n",
       "              return this.graph(data, {})\n",
       "          })\n",
       "\n",
       "          element.append(canvas)\n",
       "\n",
       "        })\n",
       "        "
      ],
      "text/plain": [
       "<IPython.core.display.Javascript object>"
      ]
     },
     "metadata": {},
     "output_type": "display_data"
    }
   ],
   "source": [
    "alg.graph(0xff0000, p, 'p', 0x0000ff, q, 'q', 0x000000, R.grade(2), 'axis')"
   ]
  },
  {
   "cell_type": "markdown",
   "id": "d1ad552b",
   "metadata": {},
   "source": [
    "We will now setup a symfit model to describe this transformation, where the rotor $R$ consists of `Parameter`'s, and the pointclouds $p$ and $q$ are symfit `Variable`'s."
   ]
  },
  {
   "cell_type": "code",
   "execution_count": 9,
   "id": "aefb3cbd",
   "metadata": {},
   "outputs": [
    {
     "name": "stdout",
     "output_type": "stream",
     "text": [
      "Re + R01e01 + R02e02 + R12e12\n",
      "p01e01 + p02e02 + p12e12\n",
      "q01e01 + q02e02 + q12e12\n"
     ]
    }
   ],
   "source": [
    "R_par = alg.evenmv(name='R', symbolcls=Parameter)\n",
    "p_var = alg.multivector(name='p', symbolcls=Variable, grades=(d,))\n",
    "q_var = alg.multivector(name='q', symbolcls=Variable, grades=(d,))\n",
    "print(R_par)\n",
    "print(p_var)\n",
    "print(q_var)"
   ]
  },
  {
   "cell_type": "code",
   "execution_count": 10,
   "id": "7e72e068",
   "metadata": {
    "scrolled": false
   },
   "outputs": [
    {
     "data": {
      "text/latex": [
       "\\begin{align}q_{01}(p_{01}, p_{02}, p_{12}; R, R_{01}, R_{02}, R_{12}) & = R^{2} p_{01} - 2 R R_{02} p_{12} + 2 R R_{12} p_{02} + 2 R_{01} R_{12} p_{12} - R_{12}^{2} p_{01}\\\\q_{02}(p_{01}, p_{02}, p_{12}; R, R_{01}, R_{02}, R_{12}) & = R^{2} p_{02} + 2 R R_{01} p_{12} - 2 R R_{12} p_{01} + 2 R_{02} R_{12} p_{12} - R_{12}^{2} p_{02}\\\\q_{12}(p_{12}; R, R_{12}) & = p_{12} \\left(R^{2} + R_{12}^{2}\\right)\\end{align}"
      ],
      "text/plain": [
       "<symfit.core.models.Model at 0x7f9132b7b4c0>"
      ]
     },
     "execution_count": 10,
     "metadata": {},
     "output_type": "execute_result"
    }
   ],
   "source": [
    "p_var_trans = R_par.conj(p_var)\n",
    "model = Model({q_var[k]: expr for k, expr in p_var_trans.items()})\n",
    "model"
   ]
  },
  {
   "cell_type": "markdown",
   "id": "30378c77",
   "metadata": {},
   "source": [
    "Prepare the data for `symfit`."
   ]
  },
  {
   "cell_type": "code",
   "execution_count": 11,
   "id": "c8d31d48",
   "metadata": {},
   "outputs": [],
   "source": [
    "datadict = {p_var[k].name: p[k] for k in p_var.keys()}\n",
    "datadict.update({q_var[k].name: q[k] for k in q_var.keys()})"
   ]
  },
  {
   "cell_type": "markdown",
   "id": "668c9d93",
   "metadata": {},
   "source": [
    "Initiate a `symfit.Fit` object with the model and data. We additionally supply the demand $R \\widetilde{R} = 1$, since rotors should be normalized (i.e., othonormal transformations)."
   ]
  },
  {
   "cell_type": "code",
   "execution_count": 12,
   "id": "97427a69",
   "metadata": {},
   "outputs": [],
   "source": [
    "constraints = [\n",
    "    Eq(R_par.normsq()[0], 1)\n",
    "]\n",
    "fit = Fit(model, **datadict, constraints=constraints)"
   ]
  },
  {
   "cell_type": "code",
   "execution_count": 13,
   "id": "e9b9e56e",
   "metadata": {},
   "outputs": [
    {
     "name": "stdout",
     "output_type": "stream",
     "text": [
      "\n",
      "Parameter Value        Standard Deviation\n",
      "R         4.993037e-01 1.517596e-02\n",
      "R01       -4.321739e-01 1.649308e-02\n",
      "R02       -2.509357e-01 1.204050e-02\n",
      "R12       8.664270e-01 1.014764e-02\n",
      "Status message         Optimization terminated successfully\n",
      "Number of iterations   14\n",
      "Objective              <symfit.core.objectives.LeastSquares object at 0x7f9132b8fee0>\n",
      "Minimizer              <symfit.core.minimizers.SLSQP object at 0x7f9132b8f6a0>\n",
      "\n",
      "Goodness of fit qualifiers:\n",
      "chi_squared            0.011043507892626378\n",
      "objective_value        0.005521753946313189\n",
      "r_squared              0.9927614045795606\n",
      "\n",
      "Constraints:\n",
      "--------------------\n",
      "Question: R**2 + R12**2 - 1 == 0?\n",
      "Answer:   9.477574280936096e-11\n",
      "\n",
      "\n"
     ]
    }
   ],
   "source": [
    "results = fit.execute()\n",
    "print(results)"
   ]
  },
  {
   "cell_type": "markdown",
   "id": "b029b3e0",
   "metadata": {},
   "source": [
    "`symfit` has used SLSQP because of the constraint, and we see that we have high accuracy on this constraint. Let us print the reconstructed rotor and it's norm. Furthermore, we can now apply $\\widetilde{R}$ to $q$ to transform it back to the location of $p$ so we can visually inspect the quality of the reconstruction."
   ]
  },
  {
   "cell_type": "code",
   "execution_count": 14,
   "id": "2f072bec",
   "metadata": {},
   "outputs": [
    {
     "name": "stdout",
     "output_type": "stream",
     "text": [
      "0.499e + -0.432e01 + -0.251e02 + 0.866e12\n",
      "1.0e\n"
     ]
    }
   ],
   "source": [
    "R_re = R_par(**results.params)\n",
    "print(R_re)\n",
    "print(R_re.normsq())"
   ]
  },
  {
   "cell_type": "code",
   "execution_count": 15,
   "id": "8d0e25ed",
   "metadata": {},
   "outputs": [],
   "source": [
    "p_reconstructed = (~R_re).conj(q)"
   ]
  },
  {
   "cell_type": "code",
   "execution_count": 16,
   "id": "d8059b46",
   "metadata": {},
   "outputs": [
    {
     "data": {
      "application/javascript": [
       "\n",
       "        fetch(\"https://enki.ws/ganja.js/ganja.js\")\n",
       "        .then(x=>x.text())\n",
       "        .then(ganja=>{\n",
       "\n",
       "          var f = new Function(\"module\",ganja);\n",
       "          var module = {exports:{}};\n",
       "          f(module);\n",
       "          var Algebra = module.exports;\n",
       "\n",
       "          var canvas = Algebra(2, 0, 1,()=>{\n",
       "              var data = [16711680, [0, 0, 0, 0, 0.5301250896410105, 0.7684896160983193, 1.0, 0], [0, 0, 0, 0, 0.10901968536025819, 0.6864885443010335, 1.0, 0], [0, 0, 0, 0, 0.5990561468325517, 0.4678739671067561, 1.0, 0], [0, 0, 0, 0, 0.3259134901847519, 0.019247750198401303, 1.0, 0], [0, 0, 0, 0, 0.009898241005036557, 0.9931416990708005, 1.0, 0], [0, 0, 0, 0, 0.25001472981051953, 0.5909620653257089, 1.0, 0], [0, 0, 0, 0, 0.45760594583049574, 0.029530187528896246, 1.0, 0], [0, 0, 0, 0, 0.9172181129391489, 0.4976263539876348, 1.0, 0], [0, 0, 0, 0, 0.024283185446231537, 0.6261713924581105, 1.0, 0], [0, 0, 0, 0, 0.2892776716500949, 0.3128676541656735, 1.0, 0], 255, [0, 0, 0, 0, -0.10674589255345503, -1.6735766965820282, 1.0, 0], [0, 0, 0, 0, -0.00729324443553498, -1.3182308420803064, 1.0, 0], [0, 0, 0, 0, -0.36317690233601563, -1.6143593827654934, 1.0, 0], [0, 0, 0, 0, -0.5987852021685599, -1.1726065717331904, 1.0, 0], [0, 0, 0, 0, 0.36703453110502965, -1.390524019835093, 1.0, 0], [0, 0, 0, 0, -0.08428416803890966, -1.3621902989398107, 1.0, 0], [0, 0, 0, 0, -0.7083140409743893, -1.276487953786359, 1.0, 0], [0, 0, 0, 0, -0.5518862670829539, -1.9183244757410058, 1.0, 0], [0, 0, 0, 0, 0.009467688080572377, -1.1810221555381157, 1.0, 0], [0, 0, 0, 0, -0.38067087145585315, -1.298899457535901, 1.0, 0], \"q\", 8913032, [0, 0, 0, 0, 0.5020537847004662, 0.7434955923788895, 1.0000000000947757, 0], [0, 0, 0, 0, 0.14473655369252014, 0.6513766367842371, 1.0000000000947757, 0], [0, 0, 0, 0, 0.5793901040884348, 0.49193516872206544, 1.0000000000947757, 0], [0, 0, 0, 0, 0.3153085466070046, 0.06659089868822776, 1.0000000000947757, 0], [0, 0, 0, 0, 0.019601292624804867, 1.0114998845149246, 1.0000000000947757, 0], [0, 0, 0, 0, 0.22137377755237236, 0.606803415168248, 1.0000000000947757, 0], [0, 0, 0, 0, 0.460105684197738, 0.0239095559577166, 1.0000000000947757, 0], [0, 0, 0, 0, 0.9370042152428144, 0.48106550367057455, 1.0000000000947757, 0], [0, 0, 0, 0, 0.017616997918553947, 0.5970832572164302, 1.0000000000947757, 0], [0, 0, 0, 0, 0.3152190462440523, 0.31863007474694005, 1.0000000000947757, 0], \"p reconstructed\", 0, [0, 0, 0, 0, -0.4321738715112142, -0.25093573185216, 0.8664270282827907, 0], \"reconst. axis\"].map(x=>x.length==8?new Element(x):x);\n",
       "              return this.graph(data, {})\n",
       "          })\n",
       "\n",
       "          element.append(canvas)\n",
       "\n",
       "        })\n",
       "        "
      ],
      "text/plain": [
       "<IPython.core.display.Javascript object>"
      ]
     },
     "metadata": {},
     "output_type": "display_data"
    }
   ],
   "source": [
    "alg.graph(0xff0000, p, 0x0000ff, q, 'q', 0x880088, p_reconstructed, 'p reconstructed', 0x000000, R_re.grade(2), 'reconst. axis')"
   ]
  },
  {
   "cell_type": "markdown",
   "id": "910a5aea",
   "metadata": {},
   "source": [
    "We see that we have excellent agreement between the original and reconstructed pointclouds."
   ]
  },
  {
   "cell_type": "code",
   "execution_count": null,
   "id": "df7ba23a",
   "metadata": {},
   "outputs": [],
   "source": []
  },
  {
   "cell_type": "code",
   "execution_count": null,
   "id": "8cfb042f",
   "metadata": {},
   "outputs": [],
   "source": []
  }
 ],
 "metadata": {
  "kernelspec": {
   "display_name": "Python 3 (ipykernel)",
   "language": "python",
   "name": "python3"
  },
  "language_info": {
   "codemirror_mode": {
    "name": "ipython",
    "version": 3
   },
   "file_extension": ".py",
   "mimetype": "text/x-python",
   "name": "python",
   "nbconvert_exporter": "python",
   "pygments_lexer": "ipython3",
   "version": "3.8.13"
  }
 },
 "nbformat": 4,
 "nbformat_minor": 5
}
