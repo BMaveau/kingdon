{
 "cells": [
  {
   "cell_type": "markdown",
   "id": "59eb2809",
   "metadata": {},
   "source": [
    "# Poincloud rotor estimation\n",
    "\n",
    "Consider the following challenge. We are presented with an input pointcloud $p_i$, and an output pointcloud $q_i = R[p_i] + \\eta_i$, where $R$ is an unknown tranformation, and $\\eta_i$ is Gaussian noise. The challenge is to reconstruct the transformation $R$.\n",
    "\n",
    "In order to do this, we construct a symbolic tranformation $R$, whose entries are `symfit.Parameter` objects. We can then use `symfit` to find the rotor $R$."
   ]
  },
  {
   "cell_type": "code",
   "execution_count": 1,
   "id": "5c08628c",
   "metadata": {},
   "outputs": [],
   "source": [
    "from kingdon import Algebra\n",
    "from symfit import Fit, Model, CallableModel, Variable, Parameter, Eq, Mul\n",
    "from symfit.core.minimizers import *\n",
    "import numpy as np"
   ]
  },
  {
   "cell_type": "markdown",
   "id": "73865566",
   "metadata": {},
   "source": [
    "We set up the number of points `n_points` in the pointcloud, the number of (Euclidean) dimensions of the modeling space `d`, and the standard deviation `sig` of the Gaussian distribution."
   ]
  },
  {
   "cell_type": "code",
   "execution_count": 2,
   "id": "07bf4671",
   "metadata": {},
   "outputs": [],
   "source": [
    "n_points = 10\n",
    "d = 2\n",
    "sig = 0.02"
   ]
  },
  {
   "cell_type": "code",
   "execution_count": 3,
   "id": "091f5c8d",
   "metadata": {},
   "outputs": [],
   "source": [
    "point_vals = np.zeros((d+1, n_points))\n",
    "noise_vals = np.zeros((d+1, n_points))\n",
    "point_vals[-1, :] = np.ones(n_points)\n",
    "point_vals[:d, :] = np.random.random((d, n_points))\n",
    "noise_vals[:d, :] = np.random.normal(0.0, sig, (d, n_points))"
   ]
  },
  {
   "cell_type": "code",
   "execution_count": 4,
   "id": "d742e36d",
   "metadata": {},
   "outputs": [],
   "source": [
    "alg = Algebra(d, 0, 1)\n",
    "locals().update(alg.blades)"
   ]
  },
  {
   "cell_type": "markdown",
   "id": "4cec591d",
   "metadata": {},
   "source": [
    "Create the points and noise as pseudovector of grade `d`."
   ]
  },
  {
   "cell_type": "code",
   "execution_count": 5,
   "id": "1dea6b61",
   "metadata": {},
   "outputs": [
    {
     "data": {
      "text/plain": [
       "[0.66291658 0.37100789 0.43365448 0.9723016  0.71834403 0.43138626\n",
       " 0.79247265 0.12060475 0.28759719 0.44793232] 𝐞₀₁ + [0.65621705 0.86190161 0.55143665 0.27474101 0.60589696 0.92750396\n",
       " 0.49083472 0.67982363 0.20211856 0.73123945] 𝐞₀₂ + [1. 1. 1. 1. 1. 1. 1. 1. 1. 1.] 𝐞₁₂"
      ]
     },
     "execution_count": 5,
     "metadata": {},
     "output_type": "execute_result"
    }
   ],
   "source": [
    "noise = alg.multivector(noise_vals, grades=(d,))\n",
    "p = alg.multivector(point_vals, grades=(d,))\n",
    "p"
   ]
  },
  {
   "cell_type": "markdown",
   "id": "c75f5df2",
   "metadata": {},
   "source": [
    "As the input rotor $R$, we use a translation by $0.5$ in the $\\mathbb{e}_{20}$ direction, followed by a rotation around $\\mathbb{e}_{12}$."
   ]
  },
  {
   "cell_type": "code",
   "execution_count": 6,
   "id": "5e975b48",
   "metadata": {},
   "outputs": [
    {
     "name": "stdout",
     "output_type": "stream",
     "text": [
      "T=1 + -0.5 𝐞₀₂\n",
      "S=0.5 + 0.866 𝐞₁₂\n"
     ]
    }
   ],
   "source": [
    "t = np.pi/3\n",
    "T = alg.multivector({'e': 1, 'e02': -0.5})\n",
    "print(f'{T=!s}')\n",
    "S = alg.multivector({'e': np.cos(t), 'e12': np.sin(t)})\n",
    "print(f'{S=!s}')\n",
    "R = S*T\n"
   ]
  },
  {
   "cell_type": "markdown",
   "id": "88942d1a",
   "metadata": {},
   "source": [
    "We can now create the transformed pointcloud $q$, and visualize both both $p$ and $q$."
   ]
  },
  {
   "cell_type": "code",
   "execution_count": 7,
   "id": "7bfb9aa6",
   "metadata": {},
   "outputs": [],
   "source": [
    "q = R.sw(p) + noise"
   ]
  },
  {
   "cell_type": "code",
   "execution_count": 8,
   "id": "d1f304ab",
   "metadata": {},
   "outputs": [
    {
     "data": {
      "application/javascript": [
       "\n",
       "        fetch(\"https://enkimute.github.io/ganja.js/ganja.js\")\n",
       "        .then(x=>x.text())\n",
       "        .then(ganja=>{\n",
       "\n",
       "          var f = new Function(\"module\",ganja);\n",
       "          var module = {exports:{}};\n",
       "          f(module);\n",
       "          var Algebra = module.exports;\n",
       "\n",
       "          var canvas = Algebra({metric:[0, 1, 1], Cayley:[[\"1\", \"e0\", \"e1\", \"e2\", \"e01\", \"e02\", \"e12\", \"e012\"], [\"e0\", \"0\", \"e01\", \"e02\", \"0\", \"0\", \"e012\", \"0\"], [\"e1\", \"-e01\", \"1\", \"e12\", \"-e0\", \"-e012\", \"e2\", \"-e02\"], [\"e2\", \"-e02\", \"-e12\", \"1\", \"e012\", \"-e0\", \"-e1\", \"e01\"], [\"e01\", \"0\", \"e0\", \"e012\", \"0\", \"0\", \"e02\", \"0\"], [\"e02\", \"0\", \"-e012\", \"e0\", \"0\", \"0\", \"-e01\", \"0\"], [\"e12\", \"e012\", \"-e2\", \"e1\", \"-e02\", \"e01\", \"-1\", \"-e0\"], [\"e012\", \"0\", \"-e02\", \"e01\", \"0\", \"0\", \"-e0\", \"0\"]]},()=>{\n",
       "              var data = [16711680, {\"mv\": [0, 0, 0, 0, 0.6629165793551145, 0.6562170501278235, 1.0, 0]}, {\"mv\": [0, 0, 0, 0, 0.37100789262342826, 0.8619016094396429, 1.0, 0]}, {\"mv\": [0, 0, 0, 0, 0.43365448284128727, 0.5514366480719017, 1.0, 0]}, {\"mv\": [0, 0, 0, 0, 0.9723016041273359, 0.2747410134711632, 1.0, 0]}, {\"mv\": [0, 0, 0, 0, 0.7183440340904682, 0.6058969631314266, 1.0, 0]}, {\"mv\": [0, 0, 0, 0, 0.43138626174910133, 0.9275039571905903, 1.0, 0]}, {\"mv\": [0, 0, 0, 0, 0.7924726496389074, 0.4908347209878451, 1.0, 0]}, {\"mv\": [0, 0, 0, 0, 0.12060475301309748, 0.6798236309913396, 1.0, 0]}, {\"mv\": [0, 0, 0, 0, 0.2875971904217658, 0.2021185631936132, 1.0, 0]}, {\"mv\": [0, 0, 0, 0, 0.4479323179777044, 0.7312394545963036, 1.0, 0]}, \"p\", 255, {\"mv\": [0.0, 0, 0, 0, -0.25106624097672825, -1.7633781537516582, 1.0, 0]}, {\"mv\": [0.0, 0, 0, 0, 0.0900088655113324, -1.613952303755007, 1.0, 0]}, {\"mv\": [0.0, 0, 0, 0, -0.2037645536197134, -1.4803582885082902, 1.0, 0]}, {\"mv\": [0.0, 0, 0, 0, -0.7358577882949485, -1.8751730474228223, 1.0, 0]}, {\"mv\": [0.0, 0, 0, 0, -0.33170767451824046, -1.775941755816398, 1.0, 0]}, {\"mv\": [0.0, 0, 0, 0, 0.09058976063680996, -1.700658718137909, 1.0, 0]}, {\"mv\": [0.0, 0, 0, 0, -0.4861648492375713, -1.8324158111867785, 1.0, 0]}, {\"mv\": [0.0, 0, 0, 0, 0.0246142231985034, -1.357968099314043, 1.0, 0]}, {\"mv\": [0.0, 0, 0, 0, -0.46275755573166416, -1.2083882123012377, 1.0, 0]}, {\"mv\": [0.0, 0, 0, 0, -0.09123562663995095, -1.6321281694307836, 1.0, 0]}, \"q\", 0, {\"mv\": [0, 0, 0, 0, -0.4330127018922193, -0.25000000000000006, 0.8660254037844386, 0]}, \"axis\"].map(x=>typeof x === 'object' && 'mv' in x?new Element(x['mv']):x).map(x=>Array.isArray(x)?x.map(y=>typeof y === 'object' && 'mv' in y?new Element(y['mv']):y):x);\n",
       "              return this.graph(data, {})\n",
       "          })\n",
       "          canvas.style.width = '100%';\n",
       "          canvas.style.background = 'white';\n",
       "          element.append(canvas)\n",
       "\n",
       "        })\n",
       "        "
      ],
      "text/plain": [
       "<IPython.core.display.Javascript object>"
      ]
     },
     "metadata": {},
     "output_type": "display_data"
    }
   ],
   "source": [
    "alg.graph(0xff0000, p, 'p', 0x0000ff, q, 'q', 0x000000, R.grade(2), 'axis')"
   ]
  },
  {
   "cell_type": "markdown",
   "id": "d1ad552b",
   "metadata": {},
   "source": [
    "We will now setup a symfit model to describe this transformation, where the rotor $R$ consists of `Parameter`'s, and the pointclouds $p$ and $q$ are symfit `Variable`'s."
   ]
  },
  {
   "cell_type": "code",
   "execution_count": 9,
   "id": "aefb3cbd",
   "metadata": {},
   "outputs": [
    {
     "name": "stdout",
     "output_type": "stream",
     "text": [
      "R + R01 𝐞₀₁ + R02 𝐞₀₂ + R12 𝐞₁₂\n",
      "p01 𝐞₀₁ + p02 𝐞₀₂ + p12 𝐞₁₂\n",
      "q01 𝐞₀₁ + q02 𝐞₀₂ + q12 𝐞₁₂\n"
     ]
    }
   ],
   "source": [
    "R_par = alg.evenmv(name='R', symbolcls=Parameter)\n",
    "p_var = alg.multivector(name='p', symbolcls=Variable, grades=(d,))\n",
    "q_var = alg.multivector(name='q', symbolcls=Variable, grades=(d,))\n",
    "print(R_par)\n",
    "print(p_var)\n",
    "print(q_var)"
   ]
  },
  {
   "cell_type": "code",
   "execution_count": 10,
   "id": "7e72e068",
   "metadata": {},
   "outputs": [
    {
     "data": {
      "text/latex": [
       "\\begin{align}q_{01}(p_{01}, p_{02}, p_{12}; R, R_{01}, R_{02}, R_{12}) & = - R R_{02} p_{12} + R \\left(R p_{01} - R_{02} p_{12} + R_{12} p_{02}\\right) + R_{01} R_{12} p_{12} + R_{12} \\left(R p_{02} + R_{01} p_{12} - R_{12} p_{01}\\right)\\\\q_{02}(p_{01}, p_{02}, p_{12}; R, R_{01}, R_{02}, R_{12}) & = R R_{01} p_{12} + R \\left(R p_{02} + R_{01} p_{12} - R_{12} p_{01}\\right) + R_{02} R_{12} p_{12} - R_{12} \\left(R p_{01} - R_{02} p_{12} + R_{12} p_{02}\\right)\\\\q_{12}(p_{12}; R, R_{12}) & = R^{2} p_{12} + R_{12}^{2} p_{12}\\end{align}"
      ],
      "text/plain": [
       "<symfit.core.models.Model at 0x20eeaceb4c0>"
      ]
     },
     "execution_count": 10,
     "metadata": {},
     "output_type": "execute_result"
    }
   ],
   "source": [
    "p_var_trans = R_par.sw(p_var).filter()\n",
    "model = Model({q_var[k]: expr for k, expr in p_var_trans.items()})\n",
    "model"
   ]
  },
  {
   "cell_type": "markdown",
   "id": "30378c77",
   "metadata": {},
   "source": [
    "Prepare the data for `symfit`."
   ]
  },
  {
   "cell_type": "code",
   "execution_count": 11,
   "id": "c8d31d48",
   "metadata": {},
   "outputs": [],
   "source": [
    "datadict = {p_var[k].name: p[k] for k in p_var.keys()}\n",
    "datadict.update({q_var[k].name: q[k] for k in q_var.keys()})"
   ]
  },
  {
   "cell_type": "markdown",
   "id": "668c9d93",
   "metadata": {},
   "source": [
    "Initiate a `symfit.Fit` object with the model and data. We additionally supply the demand $R \\widetilde{R} = 1$, since rotors should be normalized (i.e., othonormal transformations)."
   ]
  },
  {
   "cell_type": "code",
   "execution_count": 12,
   "id": "97427a69",
   "metadata": {},
   "outputs": [],
   "source": [
    "constraints = [\n",
    "    Eq(R_par.normsq()[0], 1)\n",
    "]\n",
    "fit = Fit(model, **datadict, constraints=constraints)"
   ]
  },
  {
   "cell_type": "code",
   "execution_count": 13,
   "id": "e9b9e56e",
   "metadata": {},
   "outputs": [
    {
     "name": "stdout",
     "output_type": "stream",
     "text": [
      "\n",
      "Parameter Value        Standard Deviation\n",
      "R         5.019900e-01 1.539838e-02\n",
      "R01       -4.331861e-01 1.926272e-02\n",
      "R02       -2.529785e-01 1.305376e-02\n",
      "R12       8.648735e-01 9.985278e-03\n",
      "Status message         Optimization terminated successfully\n",
      "Number of iterations   19\n",
      "Objective              <symfit.core.objectives.LeastSquares object at 0x0000020EEB0ABE50>\n",
      "Minimizer              <symfit.core.minimizers.SLSQP object at 0x0000020EEB0CC610>\n",
      "\n",
      "Goodness of fit qualifiers:\n",
      "chi_squared            0.007945238291911466\n",
      "objective_value        0.003972619145955733\n",
      "r_squared              0.9927462211035855\n",
      "\n",
      "Constraints:\n",
      "--------------------\n",
      "Question: R**2 + R12**2 - 1 == 0?\n",
      "Answer:   3.954787608506649e-10\n",
      "\n",
      "\n"
     ]
    }
   ],
   "source": [
    "results = fit.execute()\n",
    "print(results)"
   ]
  },
  {
   "cell_type": "markdown",
   "id": "b029b3e0",
   "metadata": {},
   "source": [
    "`symfit` has used SLSQP because of the constraint, and we see that we have high accuracy on this constraint. Let us print the reconstructed rotor and it's norm. Furthermore, we can now apply $\\widetilde{R}$ to $q$ to transform it back to the location of $p$ so we can visually inspect the quality of the reconstruction."
   ]
  },
  {
   "cell_type": "code",
   "execution_count": 14,
   "id": "2f072bec",
   "metadata": {},
   "outputs": [
    {
     "name": "stdout",
     "output_type": "stream",
     "text": [
      "0.502 + -0.433 𝐞₀₁ + -0.253 𝐞₀₂ + 0.865 𝐞₁₂\n",
      "1.0\n"
     ]
    }
   ],
   "source": [
    "R_re = R_par(**results.params)\n",
    "print(R_re)\n",
    "print(R_re.normsq())"
   ]
  },
  {
   "cell_type": "code",
   "execution_count": 15,
   "id": "8d0e25ed",
   "metadata": {},
   "outputs": [],
   "source": [
    "p_reconstructed = (~R_re).sw(q)"
   ]
  },
  {
   "cell_type": "code",
   "execution_count": 16,
   "id": "d8059b46",
   "metadata": {},
   "outputs": [
    {
     "data": {
      "application/javascript": [
       "\n",
       "        fetch(\"https://enkimute.github.io/ganja.js/ganja.js\")\n",
       "        .then(x=>x.text())\n",
       "        .then(ganja=>{\n",
       "\n",
       "          var f = new Function(\"module\",ganja);\n",
       "          var module = {exports:{}};\n",
       "          f(module);\n",
       "          var Algebra = module.exports;\n",
       "\n",
       "          var canvas = Algebra({metric:[0, 1, 1], Cayley:[[\"1\", \"e0\", \"e1\", \"e2\", \"e01\", \"e02\", \"e12\", \"e012\"], [\"e0\", \"0\", \"e01\", \"e02\", \"0\", \"0\", \"e012\", \"0\"], [\"e1\", \"-e01\", \"1\", \"e12\", \"-e0\", \"-e012\", \"e2\", \"-e02\"], [\"e2\", \"-e02\", \"-e12\", \"1\", \"e012\", \"-e0\", \"-e1\", \"e01\"], [\"e01\", \"0\", \"e0\", \"e012\", \"0\", \"0\", \"e02\", \"0\"], [\"e02\", \"0\", \"-e012\", \"e0\", \"0\", \"0\", \"-e01\", \"0\"], [\"e12\", \"e012\", \"-e2\", \"e1\", \"-e02\", \"e01\", \"-1\", \"-e0\"], [\"e012\", \"0\", \"-e02\", \"e01\", \"0\", \"0\", \"-e0\", \"0\"]]},()=>{\n",
       "              var data = [16711680, {\"mv\": [0, 0, 0, 0, 0.6629165793551145, 0.6562170501278235, 1.0, 0]}, {\"mv\": [0, 0, 0, 0, 0.37100789262342826, 0.8619016094396429, 1.0, 0]}, {\"mv\": [0, 0, 0, 0, 0.43365448284128727, 0.5514366480719017, 1.0, 0]}, {\"mv\": [0, 0, 0, 0, 0.9723016041273359, 0.2747410134711632, 1.0, 0]}, {\"mv\": [0, 0, 0, 0, 0.7183440340904682, 0.6058969631314266, 1.0, 0]}, {\"mv\": [0, 0, 0, 0, 0.43138626174910133, 0.9275039571905903, 1.0, 0]}, {\"mv\": [0, 0, 0, 0, 0.7924726496389074, 0.4908347209878451, 1.0, 0]}, {\"mv\": [0, 0, 0, 0, 0.12060475301309748, 0.6798236309913396, 1.0, 0]}, {\"mv\": [0, 0, 0, 0, 0.2875971904217658, 0.2021185631936132, 1.0, 0]}, {\"mv\": [0, 0, 0, 0, 0.4479323179777044, 0.7312394545963036, 1.0, 0]}, 255, {\"mv\": [0.0, 0, 0, 0, -0.25106624097672825, -1.7633781537516582, 1.0, 0]}, {\"mv\": [0.0, 0, 0, 0, 0.0900088655113324, -1.613952303755007, 1.0, 0]}, {\"mv\": [0.0, 0, 0, 0, -0.2037645536197134, -1.4803582885082902, 1.0, 0]}, {\"mv\": [0.0, 0, 0, 0, -0.7358577882949485, -1.8751730474228223, 1.0, 0]}, {\"mv\": [0.0, 0, 0, 0, -0.33170767451824046, -1.775941755816398, 1.0, 0]}, {\"mv\": [0.0, 0, 0, 0, 0.09058976063680996, -1.700658718137909, 1.0, 0]}, {\"mv\": [0.0, 0, 0, 0, -0.4861648492375713, -1.8324158111867785, 1.0, 0]}, {\"mv\": [0.0, 0, 0, 0, 0.0246142231985034, -1.357968099314043, 1.0, 0]}, {\"mv\": [0.0, 0, 0, 0, -0.46275755573166416, -1.2083882123012377, 1.0, 0]}, {\"mv\": [0.0, 0, 0, 0, -0.09123562663995095, -1.6321281694307836, 1.0, 0]}, \"q\", 8913032, {\"mv\": [0.0, 0, 0, 0, 0.6524129899953642, 0.6539735693135683, 1.0000000003954788, 0]}, {\"mv\": [0.0, 0, 0, 0, 0.3534867922997811, 0.8760173518295378, 1.0000000003954788, 0]}, {\"mv\": [0.0, 0, 0, 0, 0.38320022285776756, 0.554665060995103, 1.0000000003954788, 0]}, {\"mv\": [0.0, 0, 0, 0, 0.9899487473806766, 0.28847315168830334, 1.0000000003954788, 0]}, {\"mv\": [0.0, 0, 0, 0, 0.7033212942859138, 0.590183057009617, 1.0000000003954788, 0]}, {\"mv\": [0.0, 0, 0, 0, 0.4284871904334443, 0.9195291895294677, 1.0000000003954788, 0]}, {\"mv\": [0.0, 0, 0, 0, 0.8289712351779305, 0.4840773072715375, 1.0000000003954788, 0]}, {\"mv\": [0.0, 0, 0, 0, 0.1636482621469458, 0.6922628833366073, 1.0000000003954788, 0]}, {\"mv\": [0.0, 0, 0, 0, 0.27550805547924173, 0.19487693627180555, 1.0000000003954788, 0]}, {\"mv\": [0.0, 0, 0, 0, 0.45916865462533496, 0.727655388948592, 1.0000000003954788, 0]}, \"p reconstructed\", 0, {\"mv\": [0, 0, 0, 0, -0.43318606280731037, -0.2529785391927907, 0.8648734526280243, 0]}, \"reconst. axis\"].map(x=>typeof x === 'object' && 'mv' in x?new Element(x['mv']):x).map(x=>Array.isArray(x)?x.map(y=>typeof y === 'object' && 'mv' in y?new Element(y['mv']):y):x);\n",
       "              return this.graph(data, {})\n",
       "          })\n",
       "          canvas.style.width = '100%';\n",
       "          canvas.style.background = 'white';\n",
       "          element.append(canvas)\n",
       "\n",
       "        })\n",
       "        "
      ],
      "text/plain": [
       "<IPython.core.display.Javascript object>"
      ]
     },
     "metadata": {},
     "output_type": "display_data"
    }
   ],
   "source": [
    "alg.graph(0xff0000, p, 0x0000ff, q, 'q', 0x880088, p_reconstructed, 'p reconstructed', 0x000000, R_re.grade(2), 'reconst. axis')"
   ]
  },
  {
   "cell_type": "markdown",
   "id": "910a5aea",
   "metadata": {},
   "source": [
    "We see that we have excellent agreement between the original and reconstructed pointclouds."
   ]
  },
  {
   "cell_type": "code",
   "execution_count": null,
   "id": "df7ba23a",
   "metadata": {},
   "outputs": [],
   "source": []
  },
  {
   "cell_type": "code",
   "execution_count": null,
   "id": "8cfb042f",
   "metadata": {},
   "outputs": [],
   "source": []
  }
 ],
 "metadata": {
  "kernelspec": {
   "display_name": "Python 3 (ipykernel)",
   "language": "python",
   "name": "python3"
  },
  "language_info": {
   "codemirror_mode": {
    "name": "ipython",
    "version": 3
   },
   "file_extension": ".py",
   "mimetype": "text/x-python",
   "name": "python",
   "nbconvert_exporter": "python",
   "pygments_lexer": "ipython3",
   "version": "3.10.13"
  }
 },
 "nbformat": 4,
 "nbformat_minor": 5
}
