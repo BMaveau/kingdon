{
 "cells": [
  {
   "cell_type": "markdown",
   "id": "59eb2809",
   "metadata": {},
   "source": [
    "# Poincloud rotor estimation\n",
    "\n",
    "Consider the following challenge. We are presented with an input pointcloud $p_i$, and an output pointcloud $q_i = R[p_i] + \\eta_i$, where $R$ is an unknown tranformation, and $\\eta_i$ is Gaussian noise. The challenge is to reconstruct the transformation $R$.\n",
    "\n",
    "In order to do this, we construct a symbolic tranformation $R$, whose entries are `symfit.Parameter` objects. We can then use `symfit` to find the rotor $R$."
   ]
  },
  {
   "cell_type": "code",
   "execution_count": 1,
   "id": "5c08628c",
   "metadata": {},
   "outputs": [],
   "source": [
    "from kingdon import Algebra\n",
    "from symfit import Fit, Model, CallableModel, Variable, Parameter, Eq, Mul\n",
    "from symfit.core.minimizers import *\n",
    "import numpy as np\n",
    "import matplotlib.pyplot as plt"
   ]
  },
  {
   "cell_type": "markdown",
   "id": "73865566",
   "metadata": {},
   "source": [
    "We set up the number of points `n_points` in the pointcloud, the number of (Euclidean) dimensions of the modeling space `d`, and the standard deviation `sig` of the Gaussian distribution."
   ]
  },
  {
   "cell_type": "code",
   "execution_count": 2,
   "id": "07bf4671",
   "metadata": {},
   "outputs": [],
   "source": [
    "n_points = 10\n",
    "d = 2\n",
    "sig = 0.02"
   ]
  },
  {
   "cell_type": "code",
   "execution_count": 6,
   "id": "091f5c8d",
   "metadata": {},
   "outputs": [],
   "source": [
    "point_vals = np.zeros((d+1, n_points))\n",
    "noise_vals = np.zeros((d+1, n_points))\n",
    "point_vals[0, :] = np.ones(n_points)\n",
    "point_vals[1:d+1, :] = np.random.random((d, n_points))\n",
    "noise_vals[1:d+1, :] = np.random.normal(0.0, sig, (d, n_points))"
   ]
  },
  {
   "cell_type": "code",
   "execution_count": 7,
   "id": "d742e36d",
   "metadata": {},
   "outputs": [],
   "source": [
    "alg = Algebra(d, 0, 1)"
   ]
  },
  {
   "cell_type": "markdown",
   "id": "4cec591d",
   "metadata": {},
   "source": [
    "Create the points and noise as pseudovector of grade `d`."
   ]
  },
  {
   "cell_type": "code",
   "execution_count": 8,
   "id": "1dea6b61",
   "metadata": {},
   "outputs": [
    {
     "data": {
      "text/plain": [
       "MultiVector(algebra=Algebra(p=2, q=0, r=1, cse=True, precompute='none', numba=False, graded=False, simplify=True), _values=array([[1.        , 1.        , 1.        , 1.        , 1.        ,\n",
       "        1.        , 1.        , 1.        , 1.        , 1.        ],\n",
       "       [0.54249339, 0.00187754, 0.88934931, 0.14371307, 0.90024069,\n",
       "        0.16091466, 0.79154578, 0.8069197 , 0.08935312, 0.71837907],\n",
       "       [0.46277455, 0.50690105, 0.93836961, 0.33780138, 0.21474948,\n",
       "        0.09130718, 0.67021727, 0.37623112, 0.16948978, 0.31433891]]), _keys=(3, 5, 6))"
      ]
     },
     "execution_count": 8,
     "metadata": {},
     "output_type": "execute_result"
    }
   ],
   "source": [
    "noise = alg.purevector(noise_vals, grade=d)\n",
    "p = alg.purevector(point_vals, grade=d)\n",
    "p"
   ]
  },
  {
   "cell_type": "markdown",
   "id": "c75f5df2",
   "metadata": {},
   "source": [
    "As the input rotor $R$, we use a translation by $2$ in the $\\mathbb{e}_{13}$ direction, followed by a rotation around $\\mathbb{e}_{12}$."
   ]
  },
  {
   "cell_type": "code",
   "execution_count": 9,
   "id": "5e975b48",
   "metadata": {},
   "outputs": [
    {
     "name": "stdout",
     "output_type": "stream",
     "text": [
      "(1) * 1 + (1) * e13\n",
      "(0.5000000000000001) * 1 + (0.8660254037844386) * e12 + (0.5000000000000001) * e13 + (-0.8660254037844386) * e23\n",
      "(1.0) * 1 + (0.0) * e12 + (0.0) * e13 + (0.0) * e23\n"
     ]
    }
   ],
   "source": [
    "t = np.pi/3\n",
    "T = alg.multivector({0: 1, 5: 1})\n",
    "print(T)\n",
    "R = alg.multivector({0: np.cos(t), 3: np.sin(t)})\n",
    "R = R*T\n",
    "print(R)\n",
    "print(R.normsq())"
   ]
  },
  {
   "cell_type": "markdown",
   "id": "88942d1a",
   "metadata": {},
   "source": [
    "We can now create the transformed pointcloud $q$."
   ]
  },
  {
   "cell_type": "code",
   "execution_count": 10,
   "id": "7bfb9aa6",
   "metadata": {},
   "outputs": [
    {
     "name": "stdout",
     "output_type": "stream",
     "text": [
      "([1. 1. 1. 1. 1. 1. 1. 1. 1. 1.]) * e12 + ([1.88101687 2.16664797 2.12831565 1.95533762 1.48204906 1.73949724\n",
      " 1.91198636 1.66356202 1.80505835 1.67581711]) * e13 + ([-1.70253249 -1.25262509 -2.21694347 -1.28787096 -1.87394245 -1.21644782\n",
      " -2.02445395 -1.89602809 -1.10909076 -1.78311012]) * e23\n"
     ]
    }
   ],
   "source": [
    "q = R.conj(p) + noise\n",
    "print(q)"
   ]
  },
  {
   "cell_type": "code",
   "execution_count": 11,
   "id": "d1f304ab",
   "metadata": {},
   "outputs": [
    {
     "data": {
      "text/plain": [
       "<matplotlib.legend.Legend at 0x24a29099c90>"
      ]
     },
     "execution_count": 11,
     "metadata": {},
     "output_type": "execute_result"
    },
    {
     "data": {
      "image/png": "[encoded data removed]",
      "text/plain": [
       "<Figure size 640x480 with 1 Axes>"
      ]
     },
     "metadata": {},
     "output_type": "display_data"
    }
   ],
   "source": [
    "plt.scatter(p[6], p[5], label='original')\n",
    "plt.scatter(q[6], q[5], label='tranformed')\n",
    "plt.legend()"
   ]
  },
  {
   "cell_type": "markdown",
   "id": "d1ad552b",
   "metadata": {},
   "source": [
    "We will now setup a symfit model to describe this transformation, where the rotor $R$ consists of `Parameter`'s, and the pointclouds $p$ and $q$ are symfit `Variable`'s."
   ]
  },
  {
   "cell_type": "code",
   "execution_count": 13,
   "id": "aefb3cbd",
   "metadata": {},
   "outputs": [
    {
     "name": "stdout",
     "output_type": "stream",
     "text": [
      "(R) * 1 + (R12) * e12 + (R13) * e13 + (R23) * e23\n",
      "(p12) * e12 + (p13) * e13 + (p23) * e23\n",
      "(q12) * e12 + (q13) * e13 + (q23) * e23\n"
     ]
    }
   ],
   "source": [
    "R_par = alg.evenmv(name='R', symbolcls=Parameter)\n",
    "p_var = alg.purevector(name='p', symbolcls=Variable, grade=d)\n",
    "q_var = alg.purevector(name='q', symbolcls=Variable, grade=d)\n",
    "print(R_par)\n",
    "print(p_var)\n",
    "print(q_var)"
   ]
  },
  {
   "cell_type": "code",
   "execution_count": 14,
   "id": "7e72e068",
   "metadata": {
    "scrolled": false
   },
   "outputs": [
    {
     "data": {
      "text/latex": [
       "\\begin{align}q_{12}(p_{12}; R, R_{12}) & = p_{12} \\left(R^{2} + R_{12}^{2}\\right)\\\\q_{13}(p_{12}, p_{13}, p_{23}; R, R_{12}, R_{13}, R_{23}) & = R^{2} p_{13} + 2 R R_{12} p_{23} - 2 R R_{23} p_{12} - R_{12}^{2} p_{13} + 2 R_{12} R_{13} p_{12}\\\\q_{23}(p_{12}, p_{13}, p_{23}; R, R_{12}, R_{13}, R_{23}) & = R^{2} p_{23} - 2 R R_{12} p_{13} + 2 R R_{13} p_{12} - R_{12}^{2} p_{23} + 2 R_{12} R_{23} p_{12}\\end{align}"
      ],
      "text/plain": [
       "<symfit.core.models.Model at 0x24a2994aec0>"
      ]
     },
     "execution_count": 14,
     "metadata": {},
     "output_type": "execute_result"
    }
   ],
   "source": [
    "p_var_trans = R_par.conj(p_var)\n",
    "model = Model({q_var[k]: expr for k, expr in p_var_trans.items()})\n",
    "model"
   ]
  },
  {
   "cell_type": "markdown",
   "id": "30378c77",
   "metadata": {},
   "source": [
    "Prepare the data for `symfit`."
   ]
  },
  {
   "cell_type": "code",
   "execution_count": 15,
   "id": "c8d31d48",
   "metadata": {},
   "outputs": [
    {
     "data": {
      "text/plain": [
       "{'p12': array([1., 1., 1., 1., 1., 1., 1., 1., 1., 1.]),\n",
       " 'p13': array([0.54249339, 0.00187754, 0.88934931, 0.14371307, 0.90024069,\n",
       "        0.16091466, 0.79154578, 0.8069197 , 0.08935312, 0.71837907]),\n",
       " 'p23': array([0.46277455, 0.50690105, 0.93836961, 0.33780138, 0.21474948,\n",
       "        0.09130718, 0.67021727, 0.37623112, 0.16948978, 0.31433891]),\n",
       " 'q12': array([1., 1., 1., 1., 1., 1., 1., 1., 1., 1.]),\n",
       " 'q13': array([1.88101687, 2.16664797, 2.12831565, 1.95533762, 1.48204906,\n",
       "        1.73949724, 1.91198636, 1.66356202, 1.80505835, 1.67581711]),\n",
       " 'q23': array([-1.70253249, -1.25262509, -2.21694347, -1.28787096, -1.87394245,\n",
       "        -1.21644782, -2.02445395, -1.89602809, -1.10909076, -1.78311012])}"
      ]
     },
     "execution_count": 15,
     "metadata": {},
     "output_type": "execute_result"
    }
   ],
   "source": [
    "p_data_dict = {p_var[k].name: p[k] for k in p_var.keys()}\n",
    "q_data_dict = {q_var[k].name: q[k] for k in q_var.keys()}\n",
    "datadict = p_data_dict | q_data_dict\n",
    "datadict"
   ]
  },
  {
   "cell_type": "markdown",
   "id": "668c9d93",
   "metadata": {},
   "source": [
    "Initiate a `symfit.Fit` object with the model and data. We additionally supply the demand $R \\widetilde{R} = 1$, since rotors should be normalized (i.e., othonormal transformations)."
   ]
  },
  {
   "cell_type": "code",
   "execution_count": 16,
   "id": "97427a69",
   "metadata": {},
   "outputs": [],
   "source": [
    "constraints = [\n",
    "    Eq(R_par.normsq()[0], 1)\n",
    "]\n",
    "fit = Fit(model, **datadict, constraints=constraints)"
   ]
  },
  {
   "cell_type": "code",
   "execution_count": 17,
   "id": "e9b9e56e",
   "metadata": {},
   "outputs": [
    {
     "name": "stdout",
     "output_type": "stream",
     "text": [
      "\n",
      "Parameter Value        Standard Deviation\n",
      "R         5.108861e-01 1.055367e-02\n",
      "R12       8.596484e-01 7.296990e-03\n",
      "R13       4.858532e-01 1.842247e-02\n",
      "R23       -8.692481e-01 9.055921e-03\n",
      "Status message         Optimization terminated successfully\n",
      "Number of iterations   24\n",
      "Objective              <symfit.core.objectives.LeastSquares object at 0x0000024A2994BD00>\n",
      "Minimizer              <symfit.core.minimizers.SLSQP object at 0x0000024A29993790>\n",
      "\n",
      "Goodness of fit qualifiers:\n",
      "chi_squared            0.006075606510390592\n",
      "objective_value        0.003037803255195296\n",
      "r_squared              0.9965636446731153\n",
      "\n",
      "Constraints:\n",
      "--------------------\n",
      "Question: R**2 + R12**2 - 1 == 0?\n",
      "Answer:   4.747247039915692e-11\n",
      "\n",
      "\n"
     ]
    }
   ],
   "source": [
    "results = fit.execute()\n",
    "print(results)"
   ]
  },
  {
   "cell_type": "markdown",
   "id": "b029b3e0",
   "metadata": {},
   "source": [
    "`symfit` has used SLSQP because of the constraint, and we see that we have high accuracy on this constraint. Let us print the reconstructed rotor and it's norm. Furthermore, we can now apply $\\widetilde{R}$ to $q$ to transform it back to the location of $p$ so we can visually inspect the quality of the reconstruction."
   ]
  },
  {
   "cell_type": "code",
   "execution_count": 18,
   "id": "2f072bec",
   "metadata": {},
   "outputs": [
    {
     "name": "stdout",
     "output_type": "stream",
     "text": [
      "(0.5108861009186112) * 1 + (0.8596484118147669) * e12 + (0.48585315153371916) * e13 + (-0.8692480906253773) * e23\n",
      "(1.0000000000474725) * 1 + (0.0) * e12 + (0.0) * e13 + (5.551115123125783e-17) * e23\n"
     ]
    }
   ],
   "source": [
    "R_re = R_par(**results.params)\n",
    "print(R_re)\n",
    "print(R_re.normsq())"
   ]
  },
  {
   "cell_type": "code",
   "execution_count": 19,
   "id": "8d0e25ed",
   "metadata": {},
   "outputs": [],
   "source": [
    "p_reconstructed = (~R_re).conj(q)"
   ]
  },
  {
   "cell_type": "code",
   "execution_count": 20,
   "id": "d8059b46",
   "metadata": {},
   "outputs": [
    {
     "data": {
      "text/plain": [
       "<matplotlib.legend.Legend at 0x24a2994bdc0>"
      ]
     },
     "execution_count": 20,
     "metadata": {},
     "output_type": "execute_result"
    },
    {
     "data": {
      "image/png": "[encoded data removed]",
      "text/plain": [
       "<Figure size 640x480 with 1 Axes>"
      ]
     },
     "metadata": {},
     "output_type": "display_data"
    }
   ],
   "source": [
    "plt.scatter(p[6], p[5], label='original')\n",
    "plt.scatter(q[6], q[5], label='tranformed')\n",
    "plt.scatter(p_reconstructed[6], p_reconstructed[5], label='reconstructed')\n",
    "plt.legend()"
   ]
  },
  {
   "cell_type": "markdown",
   "id": "910a5aea",
   "metadata": {},
   "source": [
    "We see that we have excellent agreement between the original and reconstructed pointclouds."
   ]
  },
  {
   "cell_type": "code",
   "execution_count": null,
   "id": "df7ba23a",
   "metadata": {},
   "outputs": [],
   "source": []
  },
  {
   "cell_type": "code",
   "execution_count": null,
   "id": "8cfb042f",
   "metadata": {},
   "outputs": [],
   "source": []
  }
 ],
 "metadata": {
  "kernelspec": {
   "display_name": "Python 3 (ipykernel)",
   "language": "python",
   "name": "python3"
  },
  "language_info": {
   "codemirror_mode": {
    "name": "ipython",
    "version": 3
   },
   "file_extension": ".py",
   "mimetype": "text/x-python",
   "name": "python",
   "nbconvert_exporter": "python",
   "pygments_lexer": "ipython3",
   "version": "3.10.6"
  }
 },
 "nbformat": 4,
 "nbformat_minor": 5
}
