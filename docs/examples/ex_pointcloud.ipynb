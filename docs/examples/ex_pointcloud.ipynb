{
 "cells": [
  {
   "cell_type": "markdown",
   "id": "59eb2809",
   "metadata": {},
   "source": [
    "# Poincloud rotor estimation\n",
    "\n",
    "Consider the following challenge. We are presented with an input pointcloud $p_i$, and an output pointcloud $q_i = R[p_i] + \\eta_i$, where $R$ is an unknown tranformation, and $\\eta+i$ is Gaussian noise. The challenge is to reconstruct the transformation $R$.\n",
    "\n",
    "In order to do this, we construct a symbolic tranformation $R$, whose entries are `symfit.Parameter` objects. We can then use `symfit` to find the rotor $R$."
   ]
  },
  {
   "cell_type": "code",
   "execution_count": 1,
   "id": "5c08628c",
   "metadata": {},
   "outputs": [],
   "source": [
    "from kingdon import Algebra\n",
    "from symfit import Fit, Model, CallableModel, Variable, Parameter, Eq, Mul\n",
    "from symfit.core.minimizers import *\n",
    "import numpy as np\n",
    "import matplotlib.pyplot as plt"
   ]
  },
  {
   "cell_type": "markdown",
   "id": "73865566",
   "metadata": {},
   "source": [
    "We set up the number of points `n_points` in the pointcloud, the number of (Euclidean) dimensions of the modeling space `d`, and the standard deviation `sig` of the Gaussian distribution."
   ]
  },
  {
   "cell_type": "code",
   "execution_count": 2,
   "id": "07bf4671",
   "metadata": {},
   "outputs": [],
   "source": [
    "n_points = 10\n",
    "d = 2\n",
    "sig = 0.02"
   ]
  },
  {
   "cell_type": "code",
   "execution_count": 3,
   "id": "d742e36d",
   "metadata": {},
   "outputs": [],
   "source": [
    "alg = Algebra(d, 0, 1)"
   ]
  },
  {
   "cell_type": "code",
   "execution_count": 4,
   "id": "091f5c8d",
   "metadata": {},
   "outputs": [],
   "source": [
    "point_vals = np.zeros((d+1, n_points))\n",
    "noise_vals = np.zeros((d+1, n_points))\n",
    "point_vals[0, :] = np.ones(n_points)\n",
    "point_vals[1:d+1, :] = np.random.random((d, n_points))\n",
    "noise_vals[1:d+1, :] = np.random.normal(0.0, sig, (d, n_points))"
   ]
  },
  {
   "cell_type": "markdown",
   "id": "4cec591d",
   "metadata": {},
   "source": [
    "Create the points and noise as pseudovector of grade `d`."
   ]
  },
  {
   "cell_type": "code",
   "execution_count": 5,
   "id": "1dea6b61",
   "metadata": {},
   "outputs": [
    {
     "data": {
      "text/plain": [
       "MultiVector(algebra=Algebra(p=2, q=0, r=1, cse=True, precompute='none', numba=False, graded=False, simplify=True), _values=array([[1.        , 1.        , 1.        , 1.        , 1.        ,\n",
       "        1.        , 1.        , 1.        , 1.        , 1.        ],\n",
       "       [0.71880868, 0.73682804, 0.23504072, 0.9768593 , 0.28953024,\n",
       "        0.39589202, 0.7163735 , 0.38644687, 0.64971296, 0.95817869],\n",
       "       [0.18955399, 0.61687655, 0.52430992, 0.07603532, 0.15261307,\n",
       "        0.44561019, 0.30925919, 0.18664442, 0.79745723, 0.64104038]]), _keys=(3, 5, 6))"
      ]
     },
     "execution_count": 5,
     "metadata": {},
     "output_type": "execute_result"
    }
   ],
   "source": [
    "noise = alg.purevector(noise_vals, grade=d)\n",
    "p = alg.purevector(point_vals, grade=d)\n",
    "p"
   ]
  },
  {
   "cell_type": "markdown",
   "id": "c75f5df2",
   "metadata": {},
   "source": [
    "As the input rotor $R$, we use a translation by $2$ in the $\\mathbb{e}_{13}$ direction, followed by a rotation around $\\mathbb{e}_{12}$."
   ]
  },
  {
   "cell_type": "code",
   "execution_count": 6,
   "id": "5e975b48",
   "metadata": {},
   "outputs": [
    {
     "name": "stdout",
     "output_type": "stream",
     "text": [
      "(1) * 1 + (1) * e13\n",
      "(0.5000000000000001) * 1 + (0.8660254037844386) * e12 + (0.5000000000000001) * e13 + (-0.8660254037844386) * e23\n",
      "(1.0) * 1 + (0.0) * e12 + (0.0) * e13 + (0.0) * e23\n"
     ]
    }
   ],
   "source": [
    "t = np.pi/3\n",
    "T = alg.multivector({0: 1, 5: 1})\n",
    "print(T)\n",
    "R = alg.multivector({0: np.cos(t), 3: np.sin(t)})\n",
    "R = R*T\n",
    "print(R)\n",
    "print(R.normsq())"
   ]
  },
  {
   "cell_type": "markdown",
   "id": "88942d1a",
   "metadata": {},
   "source": [
    "We can now create the transformed pointcloud $q$."
   ]
  },
  {
   "cell_type": "code",
   "execution_count": 7,
   "id": "7bfb9aa6",
   "metadata": {},
   "outputs": [
    {
     "name": "stdout",
     "output_type": "stream",
     "text": [
      "([1. 1. 1. 1. 1. 1. 1. 1. 1. 1.]) * e12 + ([1.53200255 1.91373825 2.07873496 1.33090954 1.70617246 1.90748117\n",
      " 1.60701117 1.69469031 2.10059633 1.79590248]) * e13 + ([-1.75770996 -1.95385443 -1.4745211  -1.89823665 -1.34425881 -1.56863827\n",
      " -1.76567195 -1.45435783 -1.92677531 -2.13966254]) * e23\n"
     ]
    }
   ],
   "source": [
    "q = R.conj(p) + noise\n",
    "print(q)"
   ]
  },
  {
   "cell_type": "code",
   "execution_count": 8,
   "id": "d1f304ab",
   "metadata": {},
   "outputs": [
    {
     "data": {
      "text/plain": [
       "<matplotlib.legend.Legend at 0x1d4eff17820>"
      ]
     },
     "execution_count": 8,
     "metadata": {},
     "output_type": "execute_result"
    },
    {
     "data": {
      "image/png": "[encoded data removed]",
      "text/plain": [
       "<Figure size 640x480 with 1 Axes>"
      ]
     },
     "metadata": {},
     "output_type": "display_data"
    }
   ],
   "source": [
    "plt.scatter(p[6], p[5], label='original')\n",
    "plt.scatter(q[6], q[5], label='tranformed')\n",
    "plt.legend()"
   ]
  },
  {
   "cell_type": "markdown",
   "id": "d1ad552b",
   "metadata": {},
   "source": [
    "We will now setup a symfit model to describe this transformation, where the rotor $R$ consists of `Parameter`'s, and the pointclouds $p$ and $q$ are symfit `Variable`'s."
   ]
  },
  {
   "cell_type": "code",
   "execution_count": 9,
   "id": "aefb3cbd",
   "metadata": {},
   "outputs": [
    {
     "name": "stdout",
     "output_type": "stream",
     "text": [
      "(R_0) * 1 + (R_1) * e12 + (R_2) * e13 + (R_3) * e23\n",
      "(p_0) * e12 + (p_1) * e13 + (p_2) * e23\n",
      "(q_0) * e12 + (q_1) * e13 + (q_2) * e23\n"
     ]
    }
   ],
   "source": [
    "R_par = alg.evenmv([Parameter(f'R_{i}') for i in range(len(alg) // 2)])\n",
    "p_var = alg.purevector([Variable(f'p_{i}') for i in range(len(alg.indices_for_grade[d]))], grade=d)\n",
    "q_var = alg.purevector([Variable(f'q_{i}') for i in range(len(alg.indices_for_grade[d]))], grade=d)\n",
    "print(R_par)\n",
    "print(p_var)\n",
    "print(q_var)"
   ]
  },
  {
   "cell_type": "code",
   "execution_count": 10,
   "id": "7e72e068",
   "metadata": {
    "scrolled": false
   },
   "outputs": [
    {
     "data": {
      "text/latex": [
       "\\begin{align}q_{0}(p_{0}; R_{0}, R_{1}) & = p_{0} \\left(R_{0}^{2} + R_{1}^{2}\\right)\\\\q_{1}(p_{0}, p_{1}, p_{2}; R_{0}, R_{1}, R_{2}, R_{3}) & = R_{0}^{2} p_{1} + 2 R_{0} R_{1} p_{2} - 2 R_{0} R_{3} p_{0} - R_{1}^{2} p_{1} + 2 R_{1} R_{2} p_{0}\\\\q_{2}(p_{0}, p_{1}, p_{2}; R_{0}, R_{1}, R_{2}, R_{3}) & = R_{0}^{2} p_{2} - 2 R_{0} R_{1} p_{1} + 2 R_{0} R_{2} p_{0} - R_{1}^{2} p_{2} + 2 R_{1} R_{3} p_{0}\\end{align}"
      ],
      "text/plain": [
       "<symfit.core.models.Model at 0x1d4effb4130>"
      ]
     },
     "execution_count": 10,
     "metadata": {},
     "output_type": "execute_result"
    }
   ],
   "source": [
    "p_var_trans = R_par.conj(p_var)\n",
    "model = Model({q_var[k]: expr for k, expr in p_var_trans.items()})\n",
    "model"
   ]
  },
  {
   "cell_type": "markdown",
   "id": "30378c77",
   "metadata": {},
   "source": [
    "Prepare the data for `symfit`."
   ]
  },
  {
   "cell_type": "code",
   "execution_count": 11,
   "id": "c8d31d48",
   "metadata": {},
   "outputs": [
    {
     "data": {
      "text/plain": [
       "{'p_0': array([1., 1., 1., 1., 1., 1., 1., 1., 1., 1.]),\n",
       " 'p_1': array([0.71880868, 0.73682804, 0.23504072, 0.9768593 , 0.28953024,\n",
       "        0.39589202, 0.7163735 , 0.38644687, 0.64971296, 0.95817869]),\n",
       " 'p_2': array([0.18955399, 0.61687655, 0.52430992, 0.07603532, 0.15261307,\n",
       "        0.44561019, 0.30925919, 0.18664442, 0.79745723, 0.64104038]),\n",
       " 'q_0': array([1., 1., 1., 1., 1., 1., 1., 1., 1., 1.]),\n",
       " 'q_1': array([1.53200255, 1.91373825, 2.07873496, 1.33090954, 1.70617246,\n",
       "        1.90748117, 1.60701117, 1.69469031, 2.10059633, 1.79590248]),\n",
       " 'q_2': array([-1.75770996, -1.95385443, -1.4745211 , -1.89823665, -1.34425881,\n",
       "        -1.56863827, -1.76567195, -1.45435783, -1.92677531, -2.13966254])}"
      ]
     },
     "execution_count": 11,
     "metadata": {},
     "output_type": "execute_result"
    }
   ],
   "source": [
    "p_data_dict = {p_var[k].name: p[k] for k in p_var.keys()}\n",
    "q_data_dict = {q_var[k].name: q[k] for k in q_var.keys()}\n",
    "datadict = p_data_dict | q_data_dict\n",
    "datadict"
   ]
  },
  {
   "cell_type": "markdown",
   "id": "668c9d93",
   "metadata": {},
   "source": [
    "Initiate a `symfit.Fit` object with the model and data. We additionally supply the demand $R \\widetilde{R} = 1$, since rotors should be normalized (i.e., othonormal transformations)."
   ]
  },
  {
   "cell_type": "code",
   "execution_count": 12,
   "id": "97427a69",
   "metadata": {},
   "outputs": [],
   "source": [
    "constraints = [\n",
    "    Eq(R_par.normsq()[0], 1)\n",
    "]\n",
    "fit = Fit(model, **datadict, constraints=constraints)"
   ]
  },
  {
   "cell_type": "code",
   "execution_count": 13,
   "id": "e9b9e56e",
   "metadata": {},
   "outputs": [
    {
     "name": "stdout",
     "output_type": "stream",
     "text": [
      "\n",
      "Parameter Value        Standard Deviation\n",
      "R_0       5.120312e-01 1.229247e-02\n",
      "R_1       8.589668e-01 8.183345e-03\n",
      "R_2       4.758591e-01 2.189156e-02\n",
      "R_3       -8.701844e-01 8.683927e-03\n",
      "Status message         Optimization terminated successfully\n",
      "Number of iterations   19\n",
      "Objective              <symfit.core.objectives.LeastSquares object at 0x000001D4F0033C70>\n",
      "Minimizer              <symfit.core.minimizers.SLSQP object at 0x000001D4F00339D0>\n",
      "\n",
      "Goodness of fit qualifiers:\n",
      "chi_squared            0.005531363145086841\n",
      "objective_value        0.0027656815725434205\n",
      "r_squared              0.9951202951874498\n",
      "\n",
      "Constraints:\n",
      "--------------------\n",
      "Question: R_0**2 + R_1**2 - 1 == 0?\n",
      "Answer:   4.440892098500626e-16\n",
      "\n",
      "\n"
     ]
    }
   ],
   "source": [
    "results = fit.execute()\n",
    "print(results)"
   ]
  },
  {
   "cell_type": "markdown",
   "id": "b029b3e0",
   "metadata": {},
   "source": [
    "`symfit` has used SLSQP because of the constraint, and we see that we have high accuracy on this constraint. Let us print the reconstructed rotor and it's norm. Furthermore, we can now apply $\\widetilde{R}$ to $q$ to transform it back to the location of $p$ so we can visually inspect the quality of the reconstruction."
   ]
  },
  {
   "cell_type": "code",
   "execution_count": 15,
   "id": "2f072bec",
   "metadata": {},
   "outputs": [
    {
     "name": "stdout",
     "output_type": "stream",
     "text": [
      "(0.5120312420863558) * 1 + (0.8589668253940336) * e12 + (0.47585906166297187) * e13 + (-0.8701844334090576) * e23\n",
      "(1.0000000000000004) * 1 + (0.0) * e12 + (0.0) * e13 + (0.0) * e23\n"
     ]
    }
   ],
   "source": [
    "R_re = R_par(**results.params)\n",
    "print(R_re)\n",
    "print(R_re.normsq())"
   ]
  },
  {
   "cell_type": "code",
   "execution_count": 20,
   "id": "8d0e25ed",
   "metadata": {},
   "outputs": [],
   "source": [
    "p_reconstructed = (~R_re).conj(q)"
   ]
  },
  {
   "cell_type": "code",
   "execution_count": 21,
   "id": "d8059b46",
   "metadata": {},
   "outputs": [
    {
     "data": {
      "text/plain": [
       "<matplotlib.legend.Legend at 0x1d4f23d7b50>"
      ]
     },
     "execution_count": 21,
     "metadata": {},
     "output_type": "execute_result"
    },
    {
     "data": {
      "image/png": "[encoded data removed]",
      "text/plain": [
       "<Figure size 640x480 with 1 Axes>"
      ]
     },
     "metadata": {},
     "output_type": "display_data"
    }
   ],
   "source": [
    "plt.scatter(p[6], p[5], label='original')\n",
    "plt.scatter(q[6], q[5], label='tranformed')\n",
    "plt.scatter(p_reconstructed[6], p_reconstructed[5], label='reconstructed')\n",
    "plt.legend()"
   ]
  },
  {
   "cell_type": "markdown",
   "id": "910a5aea",
   "metadata": {},
   "source": [
    "We see that we have excellent agreement between the original and reconstructed pointclouds."
   ]
  },
  {
   "cell_type": "code",
   "execution_count": null,
   "id": "df7ba23a",
   "metadata": {},
   "outputs": [],
   "source": []
  },
  {
   "cell_type": "code",
   "execution_count": null,
   "id": "8cfb042f",
   "metadata": {},
   "outputs": [],
   "source": []
  }
 ],
 "metadata": {
  "kernelspec": {
   "display_name": "Python 3 (ipykernel)",
   "language": "python",
   "name": "python3"
  },
  "language_info": {
   "codemirror_mode": {
    "name": "ipython",
    "version": 3
   },
   "file_extension": ".py",
   "mimetype": "text/x-python",
   "name": "python",
   "nbconvert_exporter": "python",
   "pygments_lexer": "ipython3",
   "version": "3.10.6"
  }
 },
 "nbformat": 4,
 "nbformat_minor": 5
}
