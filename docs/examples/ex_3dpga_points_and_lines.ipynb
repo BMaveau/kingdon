{
 "cells": [
  {
   "cell_type": "markdown",
   "metadata": {},
   "source": [
    "# 3DPGA: Points and lines\n",
    "\n",
    "Based on https://enki.ws/ganja.js/examples/coffeeshop.html#pga3d_points_and_lines."
   ]
  },
  {
   "cell_type": "markdown",
   "metadata": {},
   "source": [
    "First we create 3DPGA, and add its basis blades to the local namespace."
   ]
  },
  {
   "cell_type": "code",
   "execution_count": 1,
   "metadata": {},
   "outputs": [],
   "source": [
    "from kingdon import Algebra\n",
    "\n",
    "alg = Algebra(3, 0, 1)\n",
    "locals().update(alg.blades)"
   ]
  },
  {
   "cell_type": "markdown",
   "metadata": {},
   "source": [
    "Next, make formulas to construct points and planes from coefficients."
   ]
  },
  {
   "cell_type": "code",
   "execution_count": 2,
   "metadata": {},
   "outputs": [],
   "source": [
    "# Construct points and lines from coefficients\n",
    "point = lambda x, y, z: (e0 + x*e1 + y*e2 + z*e3).dual()\n",
    "plane = lambda a, b, c, d: a*e1 + b*e2 + c*e3 + d*e0"
   ]
  },
  {
   "cell_type": "markdown",
   "metadata": {},
   "source": [
    "Lets define some points to demonstrate basic incidence and rendering."
   ]
  },
  {
   "cell_type": "code",
   "execution_count": 3,
   "metadata": {},
   "outputs": [],
   "source": [
    "A = point(0,.8,0)\n",
    "B = point(.8,-1,-.8)\n",
    "C = point(-.8,-1,-.8)\n",
    "D = point(.8,-1,.8)\n",
    "E = point(-.8,-1,.8)\n",
    "ec = E & C\n",
    "p = A & B & C"
   ]
  },
  {
   "cell_type": "code",
   "execution_count": 4,
   "metadata": {},
   "outputs": [],
   "source": [
    "avg = A + B + E\n",
    "bc = B + C\n",
    "l = avg & bc\n",
    "intersect = l ^ (A & E & D)\n",
    "l2 = l.normalized() + ec.normalized()"
   ]
  },
  {
   "cell_type": "code",
   "execution_count": 5,
   "metadata": {},
   "outputs": [
    {
     "data": {
      "application/javascript": [
       "\n",
       "        fetch(\"https://enkimute.github.io/ganja.js/ganja.js\")\n",
       "        .then(x=>x.text())\n",
       "        .then(ganja=>{\n",
       "\n",
       "          var f = new Function(\"module\",ganja);\n",
       "          var module = {exports:{}};\n",
       "          f(module);\n",
       "          var Algebra = module.exports;\n",
       "\n",
       "          var canvas = Algebra({metric:[0, 1, 1, 1], Cayley:[[\"1\", \"e0\", \"e1\", \"e2\", \"e3\", \"e01\", \"e02\", \"e03\", \"e12\", \"e13\", \"e23\", \"e012\", \"e013\", \"e023\", \"e123\", \"e0123\"], [\"e0\", \"0\", \"e01\", \"e02\", \"e03\", \"0\", \"0\", \"0\", \"e012\", \"e013\", \"e023\", \"0\", \"0\", \"0\", \"e0123\", \"0\"], [\"e1\", \"-e01\", \"1\", \"e12\", \"e13\", \"-e0\", \"-e012\", \"-e013\", \"e2\", \"e3\", \"e123\", \"-e02\", \"-e03\", \"-e0123\", \"e23\", \"-e023\"], [\"e2\", \"-e02\", \"-e12\", \"1\", \"e23\", \"e012\", \"-e0\", \"-e023\", \"-e1\", \"-e123\", \"e3\", \"e01\", \"e0123\", \"-e03\", \"-e13\", \"e013\"], [\"e3\", \"-e03\", \"-e13\", \"-e23\", \"1\", \"e013\", \"e023\", \"-e0\", \"e123\", \"-e1\", \"-e2\", \"-e0123\", \"e01\", \"e02\", \"e12\", \"-e012\"], [\"e01\", \"0\", \"e0\", \"e012\", \"e013\", \"0\", \"0\", \"0\", \"e02\", \"e03\", \"e0123\", \"0\", \"0\", \"0\", \"e023\", \"0\"], [\"e02\", \"0\", \"-e012\", \"e0\", \"e023\", \"0\", \"0\", \"0\", \"-e01\", \"-e0123\", \"e03\", \"0\", \"0\", \"0\", \"-e013\", \"0\"], [\"e03\", \"0\", \"-e013\", \"-e023\", \"e0\", \"0\", \"0\", \"0\", \"e0123\", \"-e01\", \"-e02\", \"0\", \"0\", \"0\", \"e012\", \"0\"], [\"e12\", \"e012\", \"-e2\", \"e1\", \"e123\", \"-e02\", \"e01\", \"e0123\", \"-1\", \"-e23\", \"e13\", \"-e0\", \"-e023\", \"e013\", \"-e3\", \"-e03\"], [\"e13\", \"e013\", \"-e3\", \"-e123\", \"e1\", \"-e03\", \"-e0123\", \"e01\", \"e23\", \"-1\", \"-e12\", \"e023\", \"-e0\", \"-e012\", \"e2\", \"e02\"], [\"e23\", \"e023\", \"e123\", \"-e3\", \"e2\", \"e0123\", \"-e03\", \"e02\", \"-e13\", \"e12\", \"-1\", \"-e013\", \"e012\", \"-e0\", \"-e1\", \"-e01\"], [\"e012\", \"0\", \"-e02\", \"e01\", \"e0123\", \"0\", \"0\", \"0\", \"-e0\", \"-e023\", \"e013\", \"0\", \"0\", \"0\", \"-e03\", \"0\"], [\"e013\", \"0\", \"-e03\", \"-e0123\", \"e01\", \"0\", \"0\", \"0\", \"e023\", \"-e0\", \"-e012\", \"0\", \"0\", \"0\", \"e02\", \"0\"], [\"e023\", \"0\", \"e0123\", \"-e03\", \"e02\", \"0\", \"0\", \"0\", \"-e013\", \"e012\", \"-e0\", \"0\", \"0\", \"0\", \"-e01\", \"0\"], [\"e123\", \"-e0123\", \"e23\", \"-e13\", \"e12\", \"-e023\", \"e013\", \"-e012\", \"-e3\", \"e2\", \"-e1\", \"e03\", \"-e02\", \"e01\", \"-1\", \"e0\"], [\"e0123\", \"0\", \"e023\", \"-e013\", \"e012\", \"0\", \"0\", \"0\", \"-e03\", \"e02\", \"-e01\", \"0\", \"0\", \"0\", \"-e0\", \"0\"]]},()=>{\n",
       "              var data = [13696993, [{\"mv\": [0, 0, 0, 0, 0, 0, 0, 0, 0, 0, 0, 0, 0.8, 0, 1, 0]}, {\"mv\": [0, 0, 0, 0, 0, 0, 0, 0, 0, 0, 0, 0.8, -1, -0.8, 1, 0]}, {\"mv\": [0, 0, 0, 0, 0, 0, 0, 0, 0, 0, 0, -0.8, -1, -0.8, 1, 0]}], 43656, [{\"mv\": [0, 0, 0, 0, 0, 0, 0, 0, 0, 0, 0, 0, 0.8, 0, 1, 0]}, {\"mv\": [0, 0, 0, 0, 0, 0, 0, 0, 0, 0, 0, 0.8, -1, -0.8, 1, 0]}], [{\"mv\": [0, 0, 0, 0, 0, 0, 0, 0, 0, 0, 0, 0, 0.8, 0, 1, 0]}, {\"mv\": [0, 0, 0, 0, 0, 0, 0, 0, 0, 0, 0, 0.8, -1, 0.8, 1, 0]}], [{\"mv\": [0, 0, 0, 0, 0, 0, 0, 0, 0, 0, 0, 0, 0.8, 0, 1, 0]}, {\"mv\": [0, 0, 0, 0, 0, 0, 0, 0, 0, 0, 0, -0.8, -1, -0.8, 1, 0]}], [{\"mv\": [0, 0, 0, 0, 0, 0, 0, 0, 0, 0, 0, 0, 0.8, 0, 1, 0]}, {\"mv\": [0, 0, 0, 0, 0, 0, 0, 0, 0, 0, 0, -0.8, -1, 0.8, 1, 0]}], [{\"mv\": [0, 0, 0, 0, 0, 0, 0, 0, 0, 0, 0, 0.8, -1, -0.8, 1, 0]}, {\"mv\": [0, 0, 0, 0, 0, 0, 0, 0, 0, 0, 0, 0.8, -1, 0.8, 1, 0]}], [{\"mv\": [0, 0, 0, 0, 0, 0, 0, 0, 0, 0, 0, 0.8, -1, 0.8, 1, 0]}, {\"mv\": [0, 0, 0, 0, 0, 0, 0, 0, 0, 0, 0, -0.8, -1, 0.8, 1, 0]}], [{\"mv\": [0, 0, 0, 0, 0, 0, 0, 0, 0, 0, 0, -0.8, -1, 0.8, 1, 0]}, {\"mv\": [0, 0, 0, 0, 0, 0, 0, 0, 0, 0, 0, -0.8, -1, -0.8, 1, 0]}], [{\"mv\": [0, 0, 0, 0, 0, 0, 0, 0, 0, 0, 0, -0.8, -1, -0.8, 1, 0]}, {\"mv\": [0, 0, 0, 0, 0, 0, 0, 0, 0, 0, 0, 0.8, -1, -0.8, 1, 0]}], 2245768, {\"mv\": [0, 0, 0, 0, 0, 0, 0, 0, 0, 0, 0, 0, 0.8, 0, 1, 0]}, \"A\", {\"mv\": [0, 0, 0, 0, 0, 0, 0, 0, 0, 0, 0, 0.8, -1, -0.8, 1, 0]}, \"B\", {\"mv\": [0, 0, 0, 0, 0, 0, 0, 0, 0, 0, 0, 0.8, -1, 0.8, 1, 0]}, \"C\", {\"mv\": [0, 0, 0, 0, 0, 0, 0, 0, 0, 0, 0, -0.8, -1, -0.8, 1, 0]}, \"D\", {\"mv\": [0, 0, 0, 0, 0, 0, 0, 0, 0, 0, 0, -0.8, -1, 0.8, 1, 0]}, \"E\", 8930440, {\"mv\": [0, 0, 0, 0, 0, 1.6, -1.2800000000000002, 0.0, -1.6, 0, 0.0, 0, 0, 0, 0, 0]}, \"E&C\", {\"mv\": [0, -0.10240000000000003, 0.0, 0.12800000000000003, -0.288, 0, 0, 0, 0, 0, 0, 0, 0, 0, 0, 0]}, \"A&B&C\", 8930440, {\"mv\": [0, 0, 0, 0, 0, 0, 0, 0, 0, 0, 0, 1.6, -2, 0.0, 2, 0]}, \"B+C\", {\"mv\": [0, 0, 0, 0, 0, 0, 0, 0, 0, 0, 0, 0.0, -1.2, 0.0, 3, 0]}, \"A+B+E\", {\"mv\": [0, 0, 0, 0, 0, 1.92, 0.0, 0.0, -4.800000000000001, 3.6, 0.0, 0, 0, 0, 0, 0]}, 43656, {\"mv\": [0, 0, 0, 0, 0, 0, 0, 0, 0, 0, 0, 7.3728000000000025, 1.8431999999999986, 0.0, -18.432000000000002, 0]}, \"line ^ plane\", 16746564, {\"mv\": [0, 0, 0, 0, 0, 1.32, -0.8000000000000002, 0.0, -1.8000000000000003, 0.5999999999999999, 0.0, 0, 0, 0, 0, 0]}, \"sum of lines\"].map(x=>typeof x === 'object' && 'mv' in x?new Element(x['mv']):x).map(x=>Array.isArray(x)?x.map(y=>typeof y === 'object' && 'mv' in y?new Element(y['mv']):y):x);\n",
       "              return this.graph(data, {'lineWidth': 3, 'grid': 1, 'labels': 1, 'h': 0.6, 'p': -0.15, 'pointRadius': 1, 'fontSize': 1, 'scale': 1})\n",
       "          })\n",
       "          canvas.style.width = '100%';\n",
       "          canvas.style.background = 'white';\n",
       "          element.append(canvas)\n",
       "\n",
       "        })\n",
       "        "
      ],
      "text/plain": [
       "<IPython.core.display.Javascript object>"
      ]
     },
     "metadata": {},
     "output_type": "display_data"
    }
   ],
   "source": [
    "alg.graph(\n",
    "    0xD0FFE1, [A,B,D],                                           # polygons\n",
    "    0x00AA88, [A,B],[A,C],[A,D],[A,E],[B,C],[C,E],[E,D],[D,B],   # edges\n",
    "    0x224488, A,\"A\",B,\"B\",C,\"C\",D,\"D\",E,\"E\",                     # points\n",
    "    0x884488, ec,\"E&C\", p*0.1,\"A&B&C\",                           # join of points\n",
    "    0x884488, bc, \"B+C\", avg, \"A+B+E\", l,                        # sum of points\n",
    "    0x00AA88, intersect, \"line ^ plane\",                         # meets\n",
    "    0xFF8844, l2, \"sum of lines\",                                # sum of lines.\n",
    "    lineWidth=3, \n",
    "    grid=1, \n",
    "    labels=1, \n",
    "    h=0.6, \n",
    "    p=-0.15, \n",
    "    pointRadius=1,\n",
    "    fontSize=1,\n",
    "    scale=1,\n",
    ")"
   ]
  },
  {
   "cell_type": "code",
   "execution_count": null,
   "metadata": {},
   "outputs": [],
   "source": []
  }
 ],
 "metadata": {
  "kernelspec": {
   "display_name": "Python 3 (ipykernel)",
   "language": "python",
   "name": "python3"
  },
  "language_info": {
   "codemirror_mode": {
    "name": "ipython",
    "version": 3
   },
   "file_extension": ".py",
   "mimetype": "text/x-python",
   "name": "python",
   "nbconvert_exporter": "python",
   "pygments_lexer": "ipython3",
   "version": "3.10.13"
  }
 },
 "nbformat": 4,
 "nbformat_minor": 4
}
